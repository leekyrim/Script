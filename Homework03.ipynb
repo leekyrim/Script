{
 "cells": [
  {
   "cell_type": "markdown",
   "id": "f1a40f73-2748-41c5-ae36-cdebcc649d01",
   "metadata": {},
   "source": [
    "# 스크립트 프로그래밍 Homework #3  \n",
    "스크립트 프로그래밍 02분반  \n",
    "컴퓨터공학부 2018136079 이계림  "
   ]
  },
  {
   "cell_type": "markdown",
   "id": "d42e5c43-1a12-4c87-9a3b-6016f045d1c9",
   "metadata": {},
   "source": [
    "# 문제 1.\n",
    "__L=[1, 2, 3, 4, 5]일 때 다음 각 문장을 수행한 후의 결과를 보고 납득할 만한 이유를 설명하시오.__  "
   ]
  },
  {
   "cell_type": "code",
   "execution_count": 1,
   "id": "99693702-09e8-451a-8526-f376d2e7c840",
   "metadata": {},
   "outputs": [
    {
     "name": "stdout",
     "output_type": "stream",
     "text": [
      "[1, 100, 4, 5]\n",
      "[1, 100, 4, 5]\n",
      "[1, 100, 101, 102, 4, 5]\n",
      "[1, 100, 101, 102, 4, 5]\n",
      "[1, (100, 101, 102), 4, 5]\n",
      "[1, [100, 101, 102], 4, 5]\n"
     ]
    }
   ],
   "source": [
    "L = [1, 2, 3, 4, 5]\n",
    "L[1:3] = [100]\n",
    "print(L)\n",
    "\n",
    "L = [1, 2, 3, 4, 5]\n",
    "L[1:3] = [(100)]\n",
    "print(L)\n",
    "\n",
    "#L = [1, 2, 3, 4, 5]\n",
    "#L[1:3] = 100\n",
    "#print(L)\n",
    "\n",
    "#L = [1, 2, 3, 4, 5]\n",
    "#L[1:3] = (100)\n",
    "#print(L)\n",
    "\n",
    "L = [1, 2, 3, 4, 5]\n",
    "L[1:3] = (100, 101, 102)\n",
    "print(L)\n",
    "\n",
    "L = [1, 2, 3, 4, 5]\n",
    "L[1:3] = [100, 101, 102]\n",
    "print(L)\n",
    "\n",
    "L = [1, 2, 3, 4, 5]\n",
    "L[1:3] = [(100, 101, 102)]\n",
    "print(L)\n",
    "\n",
    "L = [1, 2, 3, 4, 5]\n",
    "L[1:3] = [[100, 101, 102]]\n",
    "print(L)"
   ]
  },
  {
   "cell_type": "markdown",
   "id": "7d59224c-b274-44d0-be30-d9dd29a3ec00",
   "metadata": {},
   "source": [
    "### __설명__  \n",
    "\n",
    "L[1:3]은 리스트 내의 객체 2, 3의 위치를 반환하고 RValue를 리스트로 받아 해당 인덱스에 할당합니다.   \n",
    "\n",
    "[100]과 [(100)]은 숫자 100을 해당 위치에 대입합니다.\n",
    "\n",
    "(100, 101, 102)와 [100, 101, 102]도 마찬가지로 해당위치에 값을 하나씩 대입합니다.  \n",
    "\n",
    "[(100, 101, 102)]과 [[100, 101, 102]]은 1차적으로 리스트로 인식되고, 2차적으로 튜플과 리스트로 나눠져 들어가게 됩니다.  \n"
   ]
  },
  {
   "cell_type": "markdown",
   "id": "194cd0f9-43a0-45d2-9ceb-9c310b3db642",
   "metadata": {},
   "source": [
    "# 문제 2.\n",
    "__문자열 S = 'Hello World and Python'에 대해 다음 요구사항에 대한 Python 코드를 제시하시오.__  \n",
    "\n",
    "1) 단어의 순서가 역순으로 되어진 문자열 ('Python and World Hello')을 만들고  \n",
    "2) 1)의 결과 문자열에 대해 메소드 split과 join을 이용하여 공백을 모두 없엔 문자열 'PythonandWorldHello'을 만드시오."
   ]
  },
  {
   "cell_type": "code",
   "execution_count": 2,
   "id": "3576a8a5-b640-4026-a09e-350ad8531c6a",
   "metadata": {},
   "outputs": [
    {
     "name": "stdout",
     "output_type": "stream",
     "text": [
      "PythonandWorldHello\n"
     ]
    }
   ],
   "source": [
    "S = 'Hello World and Python'\n",
    "S = S.split()\n",
    "S.reverse()\n",
    "S = ''.join(S)\n",
    "print(S)"
   ]
  },
  {
   "cell_type": "markdown",
   "id": "40797d9d-c916-433d-a915-56a7b6127cc9",
   "metadata": {},
   "source": [
    "### __설명__  \n",
    "\n",
    "우선 split을 통해 문자열을 나눈 리스트를 얻고, reverse 함수를 통해서 뒤집었습니다.  \n",
    "그리고 join 함수를 사용해 뒤집힌 문자열 리스트를 다시 문자열로 붙여 구현하였습니다."
   ]
  },
  {
   "cell_type": "markdown",
   "id": "359f8e84-10b9-476d-841f-aa10df138823",
   "metadata": {},
   "source": [
    "# 문제 3.\n",
    "__다음 코드를 보고 물음에 답하시오__  \n",
    "\n",
    "1) 위 코드를 수행한 이후 다음 코드를 수행한 후 b와 c의 내용을 확인하시오.\n",
    "a[0]=0\n",
    "2) b와 c 객체의 차이는 무엇인가?"
   ]
  },
  {
   "cell_type": "code",
   "execution_count": 3,
   "id": "d5a64844-8318-4154-b151-8ade750115b3",
   "metadata": {},
   "outputs": [
    {
     "name": "stdout",
     "output_type": "stream",
     "text": [
      "[1, 2, 3, 1, 2, 3, 1, 2, 3]\n",
      "[[1, 2, 3], [1, 2, 3], [1, 2, 3]]\n"
     ]
    }
   ],
   "source": [
    "a = [1, 2, 3]\n",
    "b = a * 3\n",
    "c = [a] * 3\n",
    "print(b)\n",
    "print(c)"
   ]
  },
  {
   "cell_type": "code",
   "execution_count": 4,
   "id": "6bf00efa-558a-4d00-bb40-c974979b2bd1",
   "metadata": {},
   "outputs": [
    {
     "name": "stdout",
     "output_type": "stream",
     "text": [
      "[1, 2, 3, 1, 2, 3, 1, 2, 3]\n",
      "[[0, 2, 3], [0, 2, 3], [0, 2, 3]]\n"
     ]
    }
   ],
   "source": [
    "a[0] = 0\n",
    "print(b)\n",
    "print(c)"
   ]
  },
  {
   "cell_type": "markdown",
   "id": "7a6b8810-4b80-4b46-a08a-d1e2219ce861",
   "metadata": {},
   "source": [
    "### __설명__  \n",
    "\n",
    "b객체는 리스트 a를 3배로 곱한 리스트를 새로 만들어 할당하여, a와 연관관계가 없습니다.  \n",
    "c객체는 리스트 a를 하나의 원소로 배열에 할당하였으므로 a 객체가 변경되면 해당 내용이 c 객체에도 반영됩니다.  "
   ]
  },
  {
   "cell_type": "markdown",
   "id": "cb3e8c07-dc0f-404e-adc3-9600d220e313",
   "metadata": {},
   "source": [
    "# 문제 4.\n",
    "__다음 문자열을 ':'을 기준으로 분리하여 리스트로 만들고 각 문자열의 좌우 공백을 제거하시오 (즉, 문자열 S에서 l을 만들어라)__  \n",
    "\n",
    "s = '  first star   :   second star   :    third star  '\n",
    "l = ['first star', 'second star', 'third star']\n",
    "1) for ~ in 문을 이용한 코드를 작성하시오.\n",
    "2) 리스트 내포(list comprehension)를 이용한 코드를 작성하시오."
   ]
  },
  {
   "cell_type": "code",
   "execution_count": 90,
   "id": "4a10a74e-c691-487d-95dc-ece0c6067c95",
   "metadata": {},
   "outputs": [
    {
     "name": "stdout",
     "output_type": "stream",
     "text": [
      "['first star', 'second star', 'third star']\n"
     ]
    }
   ],
   "source": [
    "s = '  first star   :   second star   :    third star  '\n",
    "s = s.split(':')\n",
    "l = [ i.strip() for i in s ]\n",
    "print(l)"
   ]
  },
  {
   "cell_type": "markdown",
   "id": "4824b1bb-a598-4808-954e-3b8e0752ec38",
   "metadata": {},
   "source": [
    "### __설명__  \n",
    "\n",
    "split 함수를 통해 문자열 s를 : 를기준으로 분할하였고  \n",
    "리스트 내포와 strip 함수를 통해, 리스트의 각 원소가 되는 문자열의 앞 뒤 공백을 모두 제거하였습니다."
   ]
  },
  {
   "cell_type": "markdown",
   "id": "0ba73b6b-26ae-4832-8813-3cca2433b5d3",
   "metadata": {},
   "source": [
    "# 문제 5.\n",
    "__다음과 같이 0보다 큰 정수 리스트 변수 list를 인자로 받는 함수 addall(list)와 addallodd(list)를 for ~ in 리터널과 리스트 내포 방식으로 각각 제시하시오__  "
   ]
  },
  {
   "cell_type": "code",
   "execution_count": 11,
   "id": "75e5089f-2e82-47d4-8fba-fbed13ce1e2f",
   "metadata": {},
   "outputs": [],
   "source": [
    "def addall(L):\n",
    "    sum = 0\n",
    "    for i in L: sum=sum+i\n",
    "    return sum\n",
    "def addallodd(L):\n",
    "    sum = 0\n",
    "    for i in L:\n",
    "        if(i%2)!=0: sum=sum+i\n",
    "    return sum"
   ]
  },
  {
   "cell_type": "code",
   "execution_count": 12,
   "id": "6d9d21b5-050c-4911-bc1c-9f82d9186854",
   "metadata": {},
   "outputs": [],
   "source": [
    "def addall(L):\n",
    "    return sum([i for i in L])\n",
    "def addallodd(L):\n",
    "    return sum([i for i in L if(i%2)!=0])"
   ]
  },
  {
   "cell_type": "code",
   "execution_count": 10,
   "id": "c9f9141e-c79d-4f14-80bd-569130617c7d",
   "metadata": {},
   "outputs": [],
   "source": [
    "def addall(L):\n",
    "    sum = 0\n",
    "    [sum := sum + i for i in L]\n",
    "    return sum\n",
    "def addallodd(L):\n",
    "    sum = 0\n",
    "    [sum := sum + i for i in L if(i%2)!=0 ]\n",
    "    return sum"
   ]
  },
  {
   "cell_type": "code",
   "execution_count": 13,
   "id": "7ac12a4c-f536-4b3e-9b1d-211151afe1d0",
   "metadata": {},
   "outputs": [
    {
     "name": "stdout",
     "output_type": "stream",
     "text": [
      "15\n",
      "25\n"
     ]
    }
   ],
   "source": [
    "print(addall([1,2,3,4,5]))\n",
    "print(addallodd([1,2,3,4,5,6,7,8,9]))"
   ]
  },
  {
   "cell_type": "markdown",
   "id": "933a0239-7de0-49b4-ba33-ac693ffb6ba4",
   "metadata": {},
   "source": [
    "### __설명__  \n",
    "\n",
    "리스트 내포 관련 문제의 의도가 헷갈려서 두개의 답안을 작성했습니다.  \n",
    "문제에서 요구하는 답안은 2번째 셀에 작성하였습니다.  \n",
    "제가 생각한 답안은 3번째 셀에 작성해봤습니다.  \n",
    "\n",
    ":= 연산자는 파이썬 3.8에 새로 도입된 연산자입니다.  \n",
    "표현식의 계산, 대입, 반환을 함께 해줍니다.  "
   ]
  },
  {
   "cell_type": "markdown",
   "id": "7a07bc42-933e-4e6f-8ef2-b49a06b6aafb",
   "metadata": {},
   "source": [
    "# 문제 6.\n",
    "__다음 코드를 보고 물음에 답하시오.__  "
   ]
  },
  {
   "cell_type": "code",
   "execution_count": 14,
   "id": "c0358d12-f137-4155-a9dd-43a1fa639c3c",
   "metadata": {},
   "outputs": [
    {
     "name": "stdout",
     "output_type": "stream",
     "text": [
      "{'low': [1, 2, 3], 'high': [4, 5, 6]}\n",
      "{'low': [1, 2, 3], 'high': [4, 5, 6]}\n",
      "{'low': [1, 2, 3], 'high': [4, 5, 6]}\n",
      "\n",
      "{'low': [10, 20, 30], 'high': [4, 500, 6]}\n",
      "{'low': [10, 20, 30], 'high': [4, 500, 6]}\n",
      "{'low': [1, 2, 3], 'high': [4, 500, 6]}\n"
     ]
    }
   ],
   "source": [
    "L1 = [1, 2, 3]\n",
    "L2 = [4, 5, 6]\n",
    "d = {'low':L1, 'high':L2}\n",
    "e = d\n",
    "f = d.copy()\n",
    "print(d)\n",
    "print(e)\n",
    "print(f)\n",
    "print()\n",
    "d['low'] = [10, 20, 30]\n",
    "d['high'][1] = 500\n",
    "print(d)\n",
    "print(e)\n",
    "print(f)"
   ]
  },
  {
   "cell_type": "markdown",
   "id": "ef0b72ca-c238-4d2c-b818-0d8dd2902839",
   "metadata": {},
   "source": [
    "### __설명__  \n",
    "\n",
    "1) 위 코드의 수행 결과 d와 e는 항상 같은 결과를 출력한다. 그 이유는 무엇인가?  \n",
    "e는 d를 그대로 대입하여 같은 공간을 공유하기 때문입니다.\n",
    "\n",
    "2) 위 코드의 수행 결과 마지막 f의 내용은 다음과 같다. 이 때 'high' 키의 값 내용 중 500이 출력된 이유와 'low' 키의 값 내용 중 [1, 2, 3]이 출력된 이유를 설명하시오 ([hint]: shallow copy 관점에서 설명하시오.) {'high': [4, 500, 6], 'low': [1, 2, 3]}  \n",
    "f는 copy 함수를 사용하여 d를 deep copy 했습니다.  \n",
    "그렇기 때문에 d의 'low' 키 값의 내용을 변경해도, 해당 변경 내용이 반영되지 않습니다.  \n",
    "하지만 리스트를 깊은 복사한것이고 리스트 내부의 요소들은 shallow copy 됐기 때문에, 공간을 공유합니다.  \n",
    "따라서, 'high'의 1번째 인덱스를 변경하였을 때 해당 변경사항은 f의 'high'에도 인덱스에도 반영됩니다.  "
   ]
  },
  {
   "cell_type": "markdown",
   "id": "20ba9a3e-677d-4cf7-8ec4-6071a8067d65",
   "metadata": {},
   "source": [
    "# 문제 7.\n",
    "\n",
    "__사전 d = {'one':1, 'two':2, 'three':3, 'four':4, 'five':5}가 주어졌을 때 다음 요구사항에 맞는 코드를 제시하시오__  \n",
    "\n",
    "[참고]: d.keys(), d.values()를 통해 리스트를 얻어낸 후 리스트가 지니고 있는 sort(cmp=None, key=None, reverse=False)함수를 활용하시오."
   ]
  },
  {
   "cell_type": "code",
   "execution_count": 15,
   "id": "31ebb1c8-120d-4097-9d4a-40c924fe60c9",
   "metadata": {},
   "outputs": [
    {
     "name": "stdout",
     "output_type": "stream",
     "text": [
      "(('five', 5), ('four', 4), ('one', 1), ('three', 3), ('two', 2))\n",
      "(('two', 2), ('three', 3), ('one', 1), ('four', 4), ('five', 5))\n",
      "(('one', 1), ('two', 2), ('three', 3), ('four', 4), ('five', 5))\n",
      "(('five', 5), ('four', 4), ('three', 3), ('two', 2), ('one', 1))\n"
     ]
    }
   ],
   "source": [
    "d = {'one':1, 'two':2, 'three':3, 'four':4, 'five':5}\n",
    "keys = list(d.keys())\n",
    "values = list(d.values())\n",
    "\n",
    "keys.sort()\n",
    "print(tuple((key,d[key]) for key in keys))\n",
    "keys.sort(reverse=True)\n",
    "print(tuple((key,d[key]) for key in keys))\n",
    "\n",
    "values.sort()\n",
    "print(tuple((key,value) for i in values for key, value in d.items() if value==i))\n",
    "values.sort(reverse=True)\n",
    "print(tuple((key,value) for i in values for key, value in d.items() if value==i))"
   ]
  },
  {
   "cell_type": "markdown",
   "id": "6a809cd1-8e03-4f45-a698-e9f6cf927085",
   "metadata": {},
   "source": [
    "### __설명__  \n",
    "\n",
    "1) 키의 알파벳 오름차순 순서대로 튜플 (키, 값)을 차례대로 출력하시오.  \n",
    "키 리스트를 오름차순으로 sort한 뒤, key값과 값을 튜플로 만들어 출력합니다.  \n",
    "2) 키의 알파벳 내림차순 순서대로 튜플 (키, 값)을 차례대로 출력하시오.  \n",
    "키 리스트를 내림차순으로 sort한 뒤, key값과 값을 튜플로 만들어 출력합니다.  \n",
    "3) 값의 오름차순 순서대로 튜플 (키, 값)을 차례대로 출력하시오.  \n",
    "값 리스트를 오름차순으로 sort한 뒤, 값으로 key를 탐색하여 튜플로 만들어 출력합니다.\n",
    "4) 값의 내림차순 순서대로 튜플 (키, 값)을 차례대로 출력하시오.  \n",
    "값 리스트를 내림차순으로 sort한 뒤, 값으로 key를 탐색하여 튜플로 만들어 출력합니다."
   ]
  },
  {
   "cell_type": "markdown",
   "id": "8daca26a-e1b0-4fe5-a545-ce4042db2932",
   "metadata": {},
   "source": [
    "# 문제 8.\n",
    "__다음 문제를 정확히 읽고 적합한 코딩을 제시하시오.__  \n",
    "\n",
    "length(X)를 다음과 같이 정의한다 : 10진수로 표현된 X의 자릿수\n",
    "Strange라는 숫자를 아래과 같이 정의한다.  \n",
    "음이 아닌 정수 중 자릿수가 1인 모든 숫자는 Strange이다.  \n",
    "length(X) > 1 인 숫자 X 는 다음 2가지를 만족하면 Strange이다.  \n",
    "X는 length(X)로 정확히 나누어 떨어진다.  \n",
    "X / length(X) 가 strange이다.  \n",
    "\n",
    "이 문제에서 숫자 하나가 주어질 때, 이 숫자가 Strange인지 판단하는 함수 isStrange(num)을 작성하시오.  \n",
    "isStrange(num) 함수가 재귀적인 함수가 되도록 작성해 보세요.  "
   ]
  },
  {
   "cell_type": "code",
   "execution_count": 16,
   "id": "6a14870e-5e1c-46c6-8bb2-05b45053b505",
   "metadata": {},
   "outputs": [],
   "source": [
    "def isStrange(num):\n",
    "    length = len(str(num))\n",
    "    if length==1 and num>=0: return True\n",
    "    if length>1 and num%length==0:\n",
    "        if isStrange(int(num/length)): return True;\n",
    "    return False"
   ]
  },
  {
   "cell_type": "code",
   "execution_count": 17,
   "id": "3756bf6d-c304-43a2-b781-c13e53cf37ce",
   "metadata": {},
   "outputs": [
    {
     "name": "stdout",
     "output_type": "stream",
     "text": [
      "True\n",
      "True\n",
      "False\n",
      "True\n",
      "False\n"
     ]
    }
   ],
   "source": [
    "print(isStrange(0))\n",
    "print(isStrange(56))\n",
    "print(isStrange(100))\n",
    "print(isStrange(7882602506492313600))\n",
    "print(isStrange(6012302549522098651))"
   ]
  },
  {
   "cell_type": "markdown",
   "id": "e6b9ddcd-6c9c-4403-bdf6-640ced554b4d",
   "metadata": {},
   "source": [
    "### __설명__  \n",
    "\n",
    "입력받은 숫자를 문자열로 변환하고 len 함수를 사용해 자리수를 구합니다.  \n",
    "조건들을 통해 수의 strange 여부를 검사합니다.  \n",
    "만약 X>1이고 X가length(X)로 나눠떨어지면, X/length에 대한 재귀함수를 호출하여 strange 여부를 검사합니다."
   ]
  },
  {
   "cell_type": "markdown",
   "id": "17cd451c-3a04-436c-9aa8-72b1ffba6861",
   "metadata": {},
   "source": [
    "# 문제 9.\n",
    "\n",
    "__다음 문제를 정확히 읽고 적합한 코딩을 제시하시오.__\n",
    "\n",
    "1번 그룹, 2번 그룹, ... n번 그룹으로 번호가 매겨진 총 n개의 그룹이 존재하고, ith 그룹에는 임의의 팀원 수 ai 명이 있다.  \n",
    "하나의 버스 정류장이 있고, 버스는 오직 한 대만 운영한다. 버스는 버스 정류장에 도착하고 모든 그룹은 버스를 통해 여행하길 원한다.  \n",
    "하지만, 같은 그룹에 속한 팀원들은 분리되기를 원치 않는다. 그래서 그룹의 모든 팀원이 탈 수 있을 때 에만 그 그룹은 버스에 탑승한다.  \n",
    "또한, 이들은 그룹의 번호순으로 여행을 하길 원한다. 예를 들어, 3번 그룹은 1번 그룹과 2번 그룹이 여행을 한 뒤에 버스를 탈 수 있거나, 1번 그룹과 2번 그룹이 이미 버스에 탑승한 상태에 있을 때 동시에 버스를 탈 수 있다.  \n",
    "마지막으로, 버스는 빈 좌석이 없을 때 에만 여행을 떠난다.  \n",
    "\n",
    "이 문제에서 각 그룹의 팀원 수가 리스트로 주어질 때, 가능한 모든 버스의 사이즈 x(x명의 사람들이 동시에 탈 수 있음)를 반환하는 함수 solve(a) 를 작성하시오.  \n",
    "[주의] 반드시 계산 복잡도를 최대한 낮추세요. 아래 예시 3번을 실행했을 때 결과가 바로 나타날 수 있도록!!  "
   ]
  },
  {
   "cell_type": "code",
   "execution_count": 18,
   "id": "a76c4e0f-4bd2-4819-858e-5b4f9f945a85",
   "metadata": {},
   "outputs": [],
   "source": [
    "def solve(a):\n",
    "    num_min = max(a)\n",
    "    num_max = sum(a)\n",
    "    ret = [i for i in range(num_min, num_max+1, a[0]) if num_max%i==0]\n",
    "    return ret;"
   ]
  },
  {
   "cell_type": "code",
   "execution_count": 19,
   "id": "37488fc1-6dda-42df-8a3c-c824274fdfb5",
   "metadata": {},
   "outputs": [
    {
     "name": "stdout",
     "output_type": "stream",
     "text": [
      "[3, 4, 6, 12]\n",
      "[1, 2, 4]\n",
      "[9999, 19998, 39996, 49995, 79992, 99990, 159984, 199980, 249975, 319968, 399960, 499950, 799920, 999900, 1249875, 1599840, 1999800, 2499750, 3999600, 4999500, 6249375, 7999200, 9999000, 12498750, 19998000, 24997500, 31246875, 39996000, 49995000, 62493750, 99990000, 124987500, 199980000, 249975000, 499950000, 999900000]\n"
     ]
    }
   ],
   "source": [
    "print(solve([1, 2, 1, 1, 1, 2, 1, 3]))\n",
    "print(solve([1, 1, 1, 1]))\n",
    "print(solve([9999] * 10**5))"
   ]
  },
  {
   "cell_type": "markdown",
   "id": "769721b2-cb86-44a0-a2fa-721d75e38896",
   "metadata": {},
   "source": [
    "### __설명__  \n",
    "\n",
    "알고리즘  \n",
    "전체 그룹중 가장 팀원 수가 많은 그룹을 구하고, 전체 그룹의 팀원 수 합을 구합니다.  \n",
    "그리고 전체 그룹의 팀원 수를 나눌 수 있는 약수를 구한 뒤, (step은 첫번째 그룹의 인원으로 합니다.)  \n",
    "리스트 내포를 통해 결과값을 만들어 반환합니다."
   ]
  },
  {
   "cell_type": "markdown",
   "id": "bc98a345-b4e0-4dd4-a86a-5199c218c8e4",
   "metadata": {},
   "source": [
    "# [Incremental Project 문제]\n",
    "\n",
    "__이전 Assignment 2의 마지막 문제는 웹 URL로 지정된 웹페이지를 문자열로 가져와 모든 HTML 태그를 제외한 순수 텍스트를 얻어내고 그 안에 존재하는 단어를 추출하고 단어들의 총 개수를 출력하는 프로그램을 작성하는 것이었다. 이번에는 그 마지막 숙제를 그대로 확장하여 웹 URL로 지정된 웹페이지 내 순수 텍스트 안에 존재하는 각 단어들에 대해 다음 요구사항 대로 출력하는 프로그램을 작성하시오.__\n",
    "\n",
    "요구사항 1. CSS와 Javascript 내용도 모두 제거하시오. (이전 숙제에서 이미 제외하였다면 본 요구사항 무시)  \n",
    "요구사항 2. 순수 텍스트 안에 존재하는 단어들에 대해 string 모듈을 활용하여 모든 punctuation (구두문자)를 완벽히 제거하시오.  \n",
    "요구사항 3. 만약 punctuation (구두문자)를 제거한 이후 공백으로 판명되는 단어들은 해당 단어 리스트에서 제거하시오.  \n",
    "요구사항 4. 각 단어들의 출현빈도를 사전형태로 저장하여 출력하시오.  \n",
    "요구사항 5. 다음 5개의 사이트에 대한 단어 출현빈도 결과를 출력하시오.  \n"
   ]
  },
  {
   "cell_type": "code",
   "execution_count": 20,
   "id": "6f69e4ce-6616-4151-b012-d0e80a69e91b",
   "metadata": {},
   "outputs": [],
   "source": [
    "import re\n",
    "import requests\n",
    "import string\n",
    "\n",
    "def remove_tag(content):\n",
    "    \n",
    "    #<script>와 <style> 태그 삭제\n",
    "    left = content.find('<script')\n",
    "    while left >= 0:\n",
    "        right = content.find('</script>')\n",
    "        if right >= 0:\n",
    "            content = content[0:left]+content[right+len('<script>'):]\n",
    "        left = content.find('<script')\n",
    "        \n",
    "    left = content.find('<style')\n",
    "    while left >= 0:\n",
    "        right = content.find('</style>')\n",
    "        if right >= 0:\n",
    "            content = content[0:left]+content[right+len('<style>'):]\n",
    "        left = content.find('<style')\n",
    "    \n",
    "    # {}, <>에 대한 정규 표현식 + HTML\n",
    "    reRule = re.compile('{.*}|<.*?>|&([a-z0-9]+|#[0-9]{1,6}|#x[0-9a-f]{1,6});')\n",
    "    \n",
    "    cleanText = content\n",
    "    cleanText = re.sub(reRule, '\\n', cleanText)\n",
    "    \n",
    "    cleanText = re.sub(' +', ' ', cleanText) # 여러개의 공백 제거\n",
    "    cleanText = re.sub('\\t|\\r', '', cleanText) # 탭 문자, 개행문자 제거\n",
    "    cleanText = re.sub('@.*@', '', cleanText) # @...@ 제거\n",
    "    splitContent = cleanText.splitlines() # 한줄 단위로 쪼개어 리스트에 할당(현재 단위: 텍스트 한 라인)\n",
    "   \n",
    "    size = len(splitContent)\n",
    "    result = []\n",
    "\n",
    "    i = 0\n",
    "    while i < size:\n",
    "        splitContent[i] = splitContent[i].strip() # 문자열 양쪽을 잘라냅니다.\n",
    "        c = splitContent[i]\n",
    "        \n",
    "        # var로 시작하는 문자열 : 넘기기\n",
    "        if re.match('^var', c):\n",
    "            i = i + 1\n",
    "            continue\n",
    "        # '>'에 대한 예외처리\n",
    "        if (c == '>'):\n",
    "            i = i + 1\n",
    "            continue\n",
    "        # 주석(//)으로 시작하는 HTML 소스는 주석이 끝나는 라인까지 이동합니다.\n",
    "        if re.match('^//', c):\n",
    "            for j in range(i+1, size):\n",
    "                if re.match('^//', splitContent[j]): break\n",
    "            i = j + 1\n",
    "            continue\n",
    "        # '<'가 문자열 내에서 발견되면 다음 '>'가 발견되는 라인까지 이동합니다.\n",
    "        if '<' in c:\n",
    "            for j in range(i+1, size):\n",
    "                if '>' in splitContent[j]: break\n",
    "            i = j + 1\n",
    "            continue\n",
    "        \n",
    "        words = splitContent[i].split(' ') # 공백을 기준으로 분할합니다. (현재 단위: 텍스트 -> 단어들)\n",
    "\n",
    "        # 공백 또는 빈 단어는 삭제합니다.\n",
    "        while '' in words: words.remove('')\n",
    "        while ' ' in words: words.remove(' ')\n",
    "        \n",
    "        if len(words) > 0:\n",
    "            for word in words:\n",
    "                # 구두문자를 제거합니다.\n",
    "                for c in string.punctuation:\n",
    "                    word = word.replace(c, '')\n",
    "                if len(word) > 0:\n",
    "                    result.append(word) # 변환된 단어들을 요소로 추가합니다.\n",
    "        i = i + 1\n",
    "    return result"
   ]
  },
  {
   "cell_type": "markdown",
   "id": "557c8d29-d45f-4c92-a88b-69a0cc426024",
   "metadata": {},
   "source": [
    "### __설명__  \n",
    "script와 style 태그를 발견하면 해당 태그가 끝나는 지점을 찾고, 슬라이싱을 통해 앞과 뒤를 붙여 문자열을 수정합니다.  \n",
    "replace 함수와 string.punctuation을 사용해 구두문자를 제거합니다.  "
   ]
  },
  {
   "cell_type": "code",
   "execution_count": 21,
   "id": "11eaea60-a021-4b02-a636-b5841fae3f8c",
   "metadata": {},
   "outputs": [],
   "source": [
    "def freq_word_html(source):\n",
    "    result = remove_tag(source)\n",
    "    \n",
    "    wordDict = {}\n",
    "    for i in result:\n",
    "        wordDict[i] = wordDict.get(i, 0)+1\n",
    "    wordDict = dict(sorted(wordDict.items(), key=lambda x: x[1], reverse=True))\n",
    "    print(wordDict)"
   ]
  },
  {
   "cell_type": "markdown",
   "id": "46f7e374-ccaf-40d6-bdc8-3b50d138d8e4",
   "metadata": {},
   "source": [
    "### __설명__  \n",
    "remove_tag 함수를 사용해 정리된 단어 목록을 얻어옵니다.  \n",
    "단어를 key로 반복문을 만들어 딕셔너리의 get 함수를 사용하여 딕셔너리를 탐색합니다.  \n",
    "get 함수는 key 값을 통해 value를 반환해줍니다. 두번째 인자는 해당 key값이 없을 경우 받을 default 값입니다.  \n",
    "만약 key에 해당하는 값(빈도)이 발견될 경우 값에 1을 더합니다. (빈도+1)  \n",
    "그리고 dictionary의 key값을 기준으로 내림차순 정렬하여 출력합니다.  "
   ]
  },
  {
   "cell_type": "code",
   "execution_count": 22,
   "id": "3b558792-400c-48e0-8c47-760b7d493863",
   "metadata": {},
   "outputs": [
    {
     "name": "stdout",
     "output_type": "stream",
     "text": [
      "{'Forbidden': 2, '403': 1, 'You': 1, 'dont': 1, 'have': 1, 'permission': 1, 'to': 1, 'access': 1, 'this': 1, 'resource': 1}\n"
     ]
    }
   ],
   "source": [
    "req = requests.get(\"http://cse.koreatech.ac.kr\")\n",
    "source = req.text\n",
    "freq_word_html(source)"
   ]
  },
  {
   "cell_type": "code",
   "execution_count": null,
   "id": "253768a1-b270-44d1-80ae-5cf5e07b2b35",
   "metadata": {},
   "outputs": [],
   "source": [
    "req = requests.get(\"https://www.koreatech.ac.kr\")\n",
    "source = req.text\n",
    "freq_word_html(source)"
   ]
  },
  {
   "cell_type": "code",
   "execution_count": null,
   "id": "852499f0-a398-42f8-9d1a-5ebacc91e3a2",
   "metadata": {},
   "outputs": [],
   "source": [
    "req = requests.get(\"http://www.naver.com\")\n",
    "source = req.text\n",
    "freq_word_html(source)"
   ]
  },
  {
   "cell_type": "code",
   "execution_count": null,
   "id": "be19251f-ab6b-4f41-b2ac-275f224d15af",
   "metadata": {},
   "outputs": [],
   "source": [
    "req = requests.get(\"http://www.daum.net\")\n",
    "source = req.text\n",
    "freq_word_html(source)"
   ]
  },
  {
   "cell_type": "code",
   "execution_count": null,
   "id": "5aceb544-a20c-4983-bef0-afc93960809a",
   "metadata": {},
   "outputs": [],
   "source": [
    "req = requests.get(\"http://www.nytimes.com\")\n",
    "source = req.text\n",
    "freq_word_html(source)"
   ]
  },
  {
   "cell_type": "markdown",
   "id": "faea7e7b-9c20-4f0c-89cd-0c0547129800",
   "metadata": {},
   "source": [
    "## 느낀점\n",
    "\n",
    "과제가 점점 어려워 지는것 같지만, 프로그래밍은 역시 문제를 직면하고 해결할때 실력이 가장 빨리 늘어나는것 같습니다."
   ]
  },
  {
   "cell_type": "code",
   "execution_count": null,
   "id": "494ebe16-2c4c-4962-8ebb-ac32b2921e6f",
   "metadata": {},
   "outputs": [],
   "source": []
  }
 ],
 "metadata": {
  "kernelspec": {
   "display_name": "Python 3 (ipykernel)",
   "language": "python",
   "name": "python3"
  },
  "language_info": {
   "codemirror_mode": {
    "name": "ipython",
    "version": 3
   },
   "file_extension": ".py",
   "mimetype": "text/x-python",
   "name": "python",
   "nbconvert_exporter": "python",
   "pygments_lexer": "ipython3",
   "version": "3.9.5"
  }
 },
 "nbformat": 4,
 "nbformat_minor": 5
}
