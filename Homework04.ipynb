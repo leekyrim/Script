{
 "cells": [
  {
   "cell_type": "markdown",
   "id": "f1a40f73-2748-41c5-ae36-cdebcc649d01",
   "metadata": {
    "tags": []
   },
   "source": [
    "# 스크립트 프로그래밍 Homework #4  \n",
    "스크립트 프로그래밍 02분반  \n",
    "컴퓨터공학부 2018136079 이계림  "
   ]
  },
  {
   "cell_type": "markdown",
   "id": "d42e5c43-1a12-4c87-9a3b-6016f045d1c9",
   "metadata": {},
   "source": [
    "### 문제 1. 다음 문제를 읽고 알맞은 코드를 제시하시오.\n",
    "\n",
    "1) 파일 s.txt 내의 다음 내용과 함께 아래 문제의 코드를 제시하시오."
   ]
  },
  {
   "cell_type": "code",
   "execution_count": 1,
   "id": "99693702-09e8-451a-8526-f376d2e7c840",
   "metadata": {},
   "outputs": [],
   "source": [
    "data = [['pig', 'ham'],['cat', 'dog'], ['ham', 'bird'], ['dog', 'pig']]\n",
    "with open(\"s.txt\", 'w') as f:\n",
    "    for i in data:\n",
    "        f.write(str.format('{} {}\\n', i[0], i[1]))"
   ]
  },
  {
   "cell_type": "markdown",
   "id": "7ee3f14a-e172-4390-90d6-5bb3fdad2342",
   "metadata": {},
   "source": [
    "2) 파일 s.txt을 읽어서 각 라인에 있는 첫 번째 단어(문자열) 자체들을 기준으로 라인별 정렬후 파일 s1.txt에 그 결과를 기록하는 코드를 작성하시오.  \n",
    "__설명__ sort함수의 key값으로 0번째 요소를 사용하여 정렬 후에 저장하였습니다."
   ]
  },
  {
   "cell_type": "code",
   "execution_count": 2,
   "id": "9c3eda9d-8409-4cd1-ad2b-4732cec26c59",
   "metadata": {},
   "outputs": [],
   "source": [
    "data = []\n",
    "with open(\"s.txt\", 'r') as f:\n",
    "    while True:\n",
    "        line = f.readline()\n",
    "        if not line: break\n",
    "        data.append(line.split())\n",
    "    data.sort(key=lambda x:x[0])\n",
    "with open(\"s1.txt\", 'w') as f:\n",
    "    for i in data:\n",
    "        f.write(str.format('{} {}\\n', i[0], i[1]))"
   ]
  },
  {
   "cell_type": "markdown",
   "id": "7fe73c12-81d2-45f6-a2af-d65153d165da",
   "metadata": {},
   "source": [
    "3) 파일 s.txt을 읽어서 각 라인에 있는 두 번째 단어(문자열) 자체들을 기준으로 라인별 정렬후 파일 s2.txt에 그 결과를 기록하는 코드를 작성하시오.  \n",
    "__설명__ sort함수의 key값으로 1번째 요소를 사용하여 정렬 후에 저장하였습니다."
   ]
  },
  {
   "cell_type": "code",
   "execution_count": 3,
   "id": "b5d8d30d-dbf8-4386-9a0a-1d5a2d7cb3f4",
   "metadata": {},
   "outputs": [],
   "source": [
    "data = []\n",
    "with open(\"s.txt\", 'r') as f:\n",
    "    while True:\n",
    "        line = f.readline()\n",
    "        if not line: break\n",
    "        data.append(line.split())\n",
    "    data.sort(key=lambda x:x[1])\n",
    "with open(\"s2.txt\", 'w') as f:\n",
    "    for i in data:\n",
    "        f.write(str.format('{} {}\\n', i[0], i[1]))"
   ]
  },
  {
   "cell_type": "markdown",
   "id": "10fd8aab-80d1-4489-a420-86067b3be420",
   "metadata": {},
   "source": [
    "4) 파일 s.txt을 읽어서 각 라인들에 있는 모든 단어들을 순차적으로 다시 나열하되 각 라인에 세 개의 단어들이 오도록 하여 s3.txt에 기록하는 코드를 작성하시오.  \n",
    "__설명__  \n",
    "읽어온 문자열을 split하여 리스트로 저장합니다.  \n",
    "저장된 리스트의 요소들을 하나씩 write하며,  \n",
    "요소를 저장할때마다 카운트하며, 개행 또는 공백을 사용합니다."
   ]
  },
  {
   "cell_type": "code",
   "execution_count": 4,
   "id": "b91656c4-d09c-4ed9-a48f-2a3d569075ab",
   "metadata": {},
   "outputs": [],
   "source": [
    "data = []\n",
    "with open(\"s.txt\", 'r') as f:\n",
    "    data = f.read().split()\n",
    "with open(\"s3.txt\", 'w') as f:\n",
    "    for i in range(0, len(data)):\n",
    "        f.write(data[i])\n",
    "        f.write('\\n'if((i+1)%3==0) else' ')"
   ]
  },
  {
   "cell_type": "markdown",
   "id": "194cd0f9-43a0-45d2-9ceb-9c310b3db642",
   "metadata": {},
   "source": [
    "### 문제 2. 다음과 같은 조건들을 참고하여 회원 가입 및 로그인 프로그램을 작성하시오.\n",
    "1) 프로그램 시작 후 다음과 같은 메시지가 출력되어 1, 2, 3 중 하나의 값을 입력 받도록 한다.\n",
    "2) 1을 선택하면 ID, Password, Name, School의 4가지 정보를 입력받아 파일에 저장하는 프로그램을 작성한다.\n",
    "3) 2를 선택하면 ID, Password의 2가지 정보를 입력받는 프로그램을 작성한다.\n",
    "4) 3을 선택하면 프로그램이 끝난다."
   ]
  },
  {
   "cell_type": "code",
   "execution_count": 5,
   "id": "3576a8a5-b640-4026-a09e-350ad8531c6a",
   "metadata": {},
   "outputs": [
    {
     "name": "stdout",
     "output_type": "stream",
     "text": [
      "Welcome to Our Service\n",
      "A. Sign Up\n",
      "B. Sign In\n",
      "C. Quit\n",
      "\n"
     ]
    },
    {
     "name": "stdin",
     "output_type": "stream",
     "text": [
      "입력: 1\n",
      "ID: leegyerim\n",
      "Password: kotec1818\n",
      "Name: 이계림\n",
      "School: 한국기술교육대학교\n",
      "입력: 2\n",
      "ID 입력 noneID\n"
     ]
    },
    {
     "name": "stdout",
     "output_type": "stream",
     "text": [
      "Sorry, the entered password is not correct.\n"
     ]
    },
    {
     "name": "stdin",
     "output_type": "stream",
     "text": [
      "ID 입력 leegyerim\n",
      "Password 입력 notSimilarPwd\n"
     ]
    },
    {
     "name": "stdout",
     "output_type": "stream",
     "text": [
      "Sorry, the entered password is not correct.\n"
     ]
    },
    {
     "name": "stdin",
     "output_type": "stream",
     "text": [
      "Password 입력 kotec1818\n"
     ]
    },
    {
     "name": "stdout",
     "output_type": "stream",
     "text": [
      "Hello [이계림]!\n"
     ]
    },
    {
     "name": "stdin",
     "output_type": "stream",
     "text": [
      "입력: 3\n"
     ]
    }
   ],
   "source": [
    "import os\n",
    "import hashlib\n",
    "\n",
    "print(\"\"\"Welcome to Our Service\n",
    "A. Sign Up\n",
    "B. Sign In\n",
    "C. Quit\n",
    "\"\"\")\n",
    "while True:\n",
    "    i = input('입력:')\n",
    "    info = {}\n",
    "    \n",
    "    if(os.path.isfile(os.path.abspath(\"access.txt\"))):\n",
    "        with open(\"access.txt\", 'r', encoding=\"UTF8\") as f:\n",
    "            while True:\n",
    "                line = f.readline()\n",
    "                if not line: break\n",
    "                line = line.split()\n",
    "                info[line[0][1:-2]] = [line[1][1:-2], line[2][1:-2]]\n",
    "    if i == '1':\n",
    "        with open(\"access.txt\", 'a', encoding=\"UTF8\") as f:\n",
    "            while True:\n",
    "                ID = input(\"ID:\")\n",
    "                password = input(\"Password:\")\n",
    "                name = input(\"Name:\")\n",
    "                school = input(\"School:\")\n",
    "                \n",
    "                if ID in info: print(\"Sorry, the entered password is not correct.\")\n",
    "                else: break\n",
    "            f.writelines(str.format(\"[{}]: [{}], [{}], [{}]\\n\", ID, hashlib.sha256(password.encode()).hexdigest(), name, school))\n",
    "    elif i == '2':\n",
    "        with open(\"access.txt\", 'a', encoding=\"UTF8\") as f:\n",
    "            while True:\n",
    "                ID = input(\"ID 입력\")\n",
    "                if not ID in info: print(\"Sorry, the entered password is not correct.\"); continue\n",
    "                else: break\n",
    "                \n",
    "            while True:\n",
    "                password = input(\"Password 입력\")\n",
    "                if hashlib.sha256(password.encode()).hexdigest() != info[ID][0]: print(\"Sorry, the entered password is not correct.\")\n",
    "                else: break\n",
    "            print(str.format(\"Hello [{}]!\", info[ID][1]))\n",
    "    elif i == '3': break"
   ]
  },
  {
   "cell_type": "markdown",
   "id": "40797d9d-c916-433d-a915-56a7b6127cc9",
   "metadata": {},
   "source": [
    "### __설명__  \n",
    "\n",
    "while문 루프를 통해 입력을 처리하였습니다.\n",
    "반복문에 들어오면 우선 사용자 입력을 받습니다.  \n",
    "\n",
    "그리고 access.txt 파일의 존재여부를 확인하며,  \n",
    "파일이 존재할 경우 파일을 읽어와 info 딕셔너리에 데이터를 구성합니다. (info[ID] = [PassWord, Name])\n",
    "\n",
    "이후에 사용자의 입력에 따라 분기를 나눠 처리합니다.  \n",
    "\n",
    "1을 입력했을 경우  \n",
    "ID와 Password, Name, School을 입력받습니다.  \n",
    "반복문과 조건문을 통해 입력받은 ID가 info의 키값으로 존재하지 않을경우 반복문을 탈출합니다.\n",
    "\n",
    "2를 입력했을경우  \n",
    "ID 입력 루프를 실행하며, ID가 info의 키값으로 존재할때 루프를 탈출합니다.  \n",
    "다음으로 Password 입력 루프를 실행하며, 해당 패스워드가 ID와 일치하면 루프를 탈출합니다.  \n",
    "마지막으로 해당하는 ID의 name을 출력해줍니다."
   ]
  },
  {
   "cell_type": "markdown",
   "id": "359f8e84-10b9-476d-841f-aa10df138823",
   "metadata": {},
   "source": [
    "### 문제 3. range() 함수와 유사한 frange() 함수를 다음 조건을 참고하여 만드시오.\n",
    "1) frange()의 인자 구성은 다음과 같이 range와 동일하지만 각 인수들은 음수를 받지 않는다고 가정한다.\n",
    "2) frange() 함수의 인자에 대한 기본 시작(start) 값은 0.0이고, 기본 단계(step) 값은 0.1이다."
   ]
  },
  {
   "cell_type": "code",
   "execution_count": 6,
   "id": "d5a64844-8318-4154-b151-8ade750115b3",
   "metadata": {},
   "outputs": [],
   "source": [
    "import decimal\n",
    "def frange(start, end=None, step=0.1):\n",
    "    if end is None: start, end = 0.0, start\n",
    "    result = []\n",
    "    while start < end:\n",
    "        result.append(round(start, 10))\n",
    "        start += step\n",
    "    return result"
   ]
  },
  {
   "cell_type": "code",
   "execution_count": 7,
   "id": "6bf00efa-558a-4d00-bb40-c974979b2bd1",
   "metadata": {},
   "outputs": [
    {
     "name": "stdout",
     "output_type": "stream",
     "text": [
      "[0.0, 0.1, 0.2, 0.3, 0.4]\n",
      "[1.0, 1.1, 1.2, 1.3, 1.4, 1.5, 1.6, 1.7, 1.8, 1.9]\n",
      "[2.2, 2.7, 3.2, 3.7]\n"
     ]
    }
   ],
   "source": [
    "print(frange(0.5))\n",
    "print(frange(1.0, 2.0))\n",
    "print(frange(2.2, 4.0, 0.5))"
   ]
  },
  {
   "cell_type": "markdown",
   "id": "7a6b8810-4b80-4b46-a08a-d1e2219ce861",
   "metadata": {},
   "source": [
    "### __설명__  \n",
    "\n",
    "기본인자를 통해 문제를 해결하였습니다.  \n",
    "각각의 입력을 유스케이스로 두고 설명 드려보겠습니다.\n",
    "\n",
    "1. 인자가 하나 입력될때(end)  \n",
    "2. 인자가 두개 입력될때(start, end)  \n",
    "3. 인자가 세개 입력될때(start, end, step)  \n",
    "\n",
    "기본인자는 앞에서부터 입력이 되어야하는데,  \n",
    "1번 케이스와 2, 3번 케이스의 start, end위치가 달라지게 되어  \n",
    "\n",
    "start, end, step을 기본 form으로 사용하되,  \n",
    "start만 입력이 되었을 경우(end is None을 통해 체크)  \n",
    "start엔 0, end엔 start를 대입해줍니다.  \n",
    "\n",
    "그리고 부동소수점 타입 오차 이슈가 발생하여, round 함수를 통해 반올림 해주는 형태로 풀이하였습니다."
   ]
  },
  {
   "cell_type": "markdown",
   "id": "cb3e8c07-dc0f-404e-adc3-9600d220e313",
   "metadata": {},
   "source": [
    "### 문제 4. 가변인수를 받는 함수 sum()을 다음과 같은 조건을 참고하여 구현하시오"
   ]
  },
  {
   "cell_type": "code",
   "execution_count": 10,
   "id": "4a10a74e-c691-487d-95dc-ece0c6067c95",
   "metadata": {},
   "outputs": [],
   "source": [
    "def sum(*args):\n",
    "    sum = 0\n",
    "    for i in args: sum += i\n",
    "    return sum"
   ]
  },
  {
   "cell_type": "code",
   "execution_count": 11,
   "id": "3e6bfd26-db26-416e-8c08-e1093971bd67",
   "metadata": {},
   "outputs": [
    {
     "name": "stdout",
     "output_type": "stream",
     "text": [
      "0\n",
      "3\n",
      "15\n",
      "5\n"
     ]
    }
   ],
   "source": [
    "print(sum())\n",
    "print(sum(1,2))\n",
    "print(sum(1,2,3,4,5))\n",
    "print(sum(1,5,7,2,-10))"
   ]
  },
  {
   "cell_type": "markdown",
   "id": "4824b1bb-a598-4808-954e-3b8e0752ec38",
   "metadata": {},
   "source": [
    "### __설명__  \n",
    "*args에 모든 인자들로 구성된 튜플이 만들어지고, 해당 요소들을 sum에 모두 취합하여 return 하였습니다."
   ]
  },
  {
   "cell_type": "markdown",
   "id": "0ba73b6b-26ae-4832-8813-3cca2433b5d3",
   "metadata": {},
   "source": [
    "### 문제 5. 여러 단어로 이루어진 문자열을 입력받아 각 단어의 첫글자로 이루어진 단어를 대문자로 출력하는 myinitial() 함수를 다음 조건을 참고하여 작성하시오.\n",
    "\n",
    "1) 다음에 제시되는 함수들을 모두 이용해야 한다.\n",
    "        split\n",
    "        map\n",
    "        join\n",
    "2) myinitial() 함수 사용 예\n",
    "        myinitial(\"as soon as possible\")\n",
    "        ASAP"
   ]
  },
  {
   "cell_type": "code",
   "execution_count": 14,
   "id": "75e5089f-2e82-47d4-8fba-fbed13ce1e2f",
   "metadata": {},
   "outputs": [],
   "source": [
    "def myinitial(string):\n",
    "    string = string.split();\n",
    "    string = map(lambda s: s[0].upper(), string)\n",
    "    print(''.join(string))"
   ]
  },
  {
   "cell_type": "code",
   "execution_count": 15,
   "id": "7ac7e26d-edd2-40a7-bc77-1d65efd8e29f",
   "metadata": {},
   "outputs": [
    {
     "name": "stdout",
     "output_type": "stream",
     "text": [
      "ASAP\n",
      "ILP\n",
      "GMTA\n"
     ]
    }
   ],
   "source": [
    "myinitial(\"as soon as possible\")\n",
    "myinitial(\"i love python\")\n",
    "myinitial(\"give me the A+\")"
   ]
  },
  {
   "cell_type": "markdown",
   "id": "933a0239-7de0-49b4-ba33-ac693ffb6ba4",
   "metadata": {},
   "source": [
    "### __설명__  \n",
    "split을 통해 입력된 문자열을 나누고,    \n",
    "map 함수를 통해 첫번째 요소의 대문자만을 시퀀스 자료형에 담습니다.  \n",
    "담긴 대문자들을 join함수를 통해 연결합니다.  "
   ]
  },
  {
   "cell_type": "markdown",
   "id": "7a07bc42-933e-4e6f-8ef2-b49a06b6aafb",
   "metadata": {},
   "source": [
    "### 문제 6. 음이 아닌 정수 n를 입력받으면 n! (factorial)을 계산하는 myfact() 함수를 재귀적 함수로 구현하시오."
   ]
  },
  {
   "cell_type": "code",
   "execution_count": 2,
   "id": "c0358d12-f137-4155-a9dd-43a1fa639c3c",
   "metadata": {},
   "outputs": [],
   "source": [
    "def myfact(n):\n",
    "    if n<=1: return 1\n",
    "    return n*myfact(n-1)"
   ]
  },
  {
   "cell_type": "code",
   "execution_count": 4,
   "id": "f3e7378f-bd41-45cb-8f5f-af32d97116dd",
   "metadata": {},
   "outputs": [
    {
     "name": "stdout",
     "output_type": "stream",
     "text": [
      "44201814980348056104190465782976583657596017763689826608032444746651648143323394093789705673583773042707256807913381343596013476108959449709342355212236760419081710620903744969687027633783847842646159452307468355816820840549862978232720564875016811021158854318042607900524260423297970747117095524381587342987435436663628100990121893588055482139126429551344399482284832639914334502814703766822745212143066962643626130495849670111840094693777379362592548417111267627142977012984332837768106308226281077201264852245450813928393548767751863611211400292319001217408360257890564853269861332713837629141303347354539796329777823745980803180374755945833112466749331407243869162702396494687572605409392482385459115944954090215551125918801661961144687409583656245812096805108410013821570272535249126709418328563062910494944548734229400327469475366130620154774800505130157687037866318816188676559630734539774600532136299593237766983402645519631006089354532316813443564898155201652333671815523064463928195909574050088917417180585310047302034028132801720272332428796665318261362029942973685652715122525852596568504340365320388625725676399898281693197652295223981498514088722116019255232742353565662979638307538705073158234931946131742807828481789263469678971259210777021955760798493869008323804846854394718438377599899200370071412325657562625262524939007416700331781566853668172816388770812573932921352854447030830512343231816114982634318653106857687176238814820051365707821877307199296370828967310597862736021866160885782517184014812476149882004283958403771741072655801767267089148067370469782595388023088114287974329264799734239602939829847365948253060542725973024480917286403463476988104989839011021147080269502159504525418255157774437357112675123543523739455109659813219000268733396921416324044810561746062847305283771608234463632507525261633229188241213325568781042199334808892962263501447405992459419055160132499418385593019070531184422730006106172453214438418916181555967750420829178264005477457290609091412500533120460643604005150685713941709685972256802349645174230245507242699857022528221279049908508778063789080926531655337524567320254532395881729286979188711094616757506297342191099185901936574354591451499373635906253322483474421878793107804236866684928231418864053691695786193159528655951877767600795372743482875569901917571324286668739380734385669429060557699028027899070181647178272199419235930965668739888381596183146289551493331100451055402576168888337798045878596323806499354252320194293779186953461617682155625323392682335441399605007591923546309570758066952232101169337594634473233138525243285282366075909928899279981422028026533030253230339136092614569718729380256226766100104253788076711341314119542248544539047527960882106596944055975376600168599620764667664683133724296688759284527111668308776595494388028080341451164230568310420160676595271247868846181913114850111100255422854832896009149449199534290625833345995899826113402322581861335443186471446587881524960787888803914115112173384485907147261018845549295179272088389222790587715891632946186273968516117841346675900615348638818569339015660261160931983225459323611255117556426153173476667891621912248023365924953283141839082406152063909070984433893605990779190547819573610010016151887800515526187111764107873140194530783304924374858254104213845886344863503740242786693751642088661153609923581024463147867460221583819647721564312294154739438384954411462099972499193841319624762590212838842556439857801080969501229568124939141015552956978400219607394911910771239655631975382058148223483998457889281289507523380919594679971971295431674871471595974864457781219703166081506424009581973725174379813590888933699321506081816383634766663315746322258095830835529155399595573796959893273938705707729515502957726326726093990676349026977997371031464122197390388282343255087973234059106561300852161501355518122453258066561356730330377026891206510384576385744881246827619964972547254206474793319744978578759426166169515610824595478940012173838594305847926941885374186387348913553402730764940285427386447626380181833144543248589185518095953229235610347218714227589716430915158971111222070500883556475978293354835389484549226679635982578667639255301813829741701720511466226522114455320368702388349865961618952842921260882285411072025780820721488639877590536104773886610340442318944038849950751814215078085683374272502642614437132027347034327502390505716255094485979427189169190394735426598057208748752175475537421616496150545517715985121137600711577223228483578050676863071117954822106386523347706405260636574076140734026909265093624202072895768744577930955765485001189392054481914327862762827909498287319747640768132157351638353641786083945245541983846859079930251710685390931051433911821970518912683113771558303081157849027411680003964706754507708693482195309087101346709105877702533609953914560656207041388540635516584426704713793226587341894525496746108891671724991323324963446924659069780697318704741121407451439403057224933677416335952539634180353403091464641605083403924461775262344010053746269028543878288857752126034480504970208561575491914082156479344630155545983892582801970101166250987571835336027412027781071922494588296674207423186281738033651306490957265861138332170187304446953577417546682472092098303716296111177990957508908827074238502586544443167601170823736932802691203632392910273563242096273472905216156676106482902492577656773978252382888322504876387384384011192934789406972888276220146183095906126194080160386620724994460589679054650580222721631277728957092198620689197381745030185303978072094133573905353367848290650473484076226255584238933260166747788675084484837781733799655562548207828191492705928981641382838043040936895852425442609430285942767273240792303072238636243086513629907038781967886264201841674486873760037912372890841424119553637224319240735379878950420054585754612075367523940179890550222069749488833694898261965606532641613171086403961624756791119126996556755040376043227754879404272261576531552524581512167435666659131172007999414598296986871471178035459424039257271296024345161799304121863009571833146601296525758221594541993883211298446767736770332002415292024970643589373970320402620144403689022457229101144815431568309008412682519207062875885312362526853449131539469980120886772577059491287520403875336862786840098506862367701923356783578339503996831622233305807121105920053587382371023841199321337672533781200727977501266069364068077663919503975050962158383241539524253113359231330518377557143956170136516146063811812793615594313428937586049470921241930148906392284021882013336497437162091226972685168803840000000000000000000000000000000000000000000000000000000000000000000000000000000000000000000000000000000000000000000000000000000000000000000000000000000000000000000000000000000000000000000000000000000000000000000000000000000000000000000000000000000000000000000000000000000000000000000000000000000000000000000000000000000000000000000000000000000000000000000000000000000000000000000000000000000000000000000000000000000000000000000000000000000000000000000000000000000000000000000000000000000000000000000000000000000000000000000000000000000000000000000000000000000000000000000000000000000000000000000000000000000\n"
     ]
    }
   ],
   "source": [
    "print(myfact(2440))"
   ]
  },
  {
   "cell_type": "markdown",
   "id": "ef0b72ca-c238-4d2c-b818-0d8dd2902839",
   "metadata": {},
   "source": [
    "### __설명__\n",
    "재귀 함수를 통해 factorial을 구현하였습니다.  \n",
    "1이 될때까지 n을 1씩 빼며 재귀호출을 하고, n이 1이하로 내려가면 재귀함수의 끝을 만듭니다."
   ]
  },
  {
   "cell_type": "markdown",
   "id": "20ba9a3e-677d-4cf7-8ec4-6071a8067d65",
   "metadata": {},
   "source": [
    "### 문제 7. (서술형) import string 과 from string import * 의 차이점을 설명하시오."
   ]
  },
  {
   "cell_type": "markdown",
   "id": "2c3987a9-4a4a-4073-ba4d-353232c9e3b7",
   "metadata": {},
   "source": [
    "import string은 string 모듈을 통째로 불러오는 것이고,  \n",
    "from string import *는 string 모듈 내의 모든 함수, 클래스, 변수를 가져오는 것입니다."
   ]
  },
  {
   "cell_type": "markdown",
   "id": "bc98a345-b4e0-4dd4-a86a-5199c218c8e4",
   "metadata": {},
   "source": [
    "# [Incremental Project 문제]\n",
    "\n",
    "__이전 Assignment 3의 마지막 문제는 웹 URL로 지정된 웹페이지를 문자열로 가져와 모든 HTML 태그 및 CSS와 Javascript를 제외한 순수 텍스트를 얻어내고 그 안에 존재하는 단어를 추출하여 각 단어들에 대해 출현빈도를 사전형태({'world': 2, 'hello': 1, 'python': 1})로 저장하여 출력하는 것이었다. 이번에는 Assignment 3를 확장하여 다음과 같은 조건을 만족하도록 구현하시오.__\n",
    "\n",
    "    1. 불용어 제거  \n",
    "    2. HTML 소스파일 저장  \n",
    "    3,4,5. 단어의 출연빈도가 담긴 딕셔너리 객체 직렬화  \n",
    "    6. 검색엔진 기능(유사도)"
   ]
  },
  {
   "cell_type": "code",
   "execution_count": 5,
   "id": "6f69e4ce-6616-4151-b012-d0e80a69e91b",
   "metadata": {},
   "outputs": [],
   "source": [
    "import re\n",
    "import requests\n",
    "import string\n",
    "\n",
    "def remove_tag(content):\n",
    "    #<script>와 <style> 태그 삭제\n",
    "    left = content.find('<script')\n",
    "    while left >= 0:\n",
    "        right = content.find('</script>')\n",
    "        if right >= 0:\n",
    "            content = content[0:left]+content[right+len('<script>'):]\n",
    "        left = content.find('<script')\n",
    "        \n",
    "    left = content.find('<style')\n",
    "    while left >= 0:\n",
    "        right = content.find('</style>')\n",
    "        if right >= 0:\n",
    "            content = content[0:left]+content[right+len('<style>'):]\n",
    "        left = content.find('<style')\n",
    "    \n",
    "    # {}, <>에 대한 정규 표현식 + HTML\n",
    "    reRule = re.compile('{.*}|<.*?>|&([a-z0-9]+|#[0-9]{1,6}|#x[0-9a-f]{1,6});')\n",
    "    \n",
    "    cleanText = content\n",
    "    cleanText = re.sub(reRule, '\\n', cleanText)\n",
    "    \n",
    "    cleanText = re.sub(' +', ' ', cleanText) # 여러개의 공백 제거\n",
    "    cleanText = re.sub('\\t|\\r', '', cleanText) # 탭 문자, 개행문자 제거\n",
    "    cleanText = re.sub('@.*@', '', cleanText) # @...@ 제거\n",
    "    splitContent = cleanText.splitlines() # 한줄 단위로 쪼개어 리스트에 할당(현재 단위: 텍스트 한 라인)\n",
    "   \n",
    "    size = len(splitContent)\n",
    "    result = []\n",
    "\n",
    "    i = 0\n",
    "    while i < size:\n",
    "        splitContent[i] = splitContent[i].strip() # 문자열 양쪽을 잘라냅니다.\n",
    "        c = splitContent[i]\n",
    "        \n",
    "        # var로 시작하는 문자열 : 넘기기\n",
    "        if re.match('^var', c):\n",
    "            i = i + 1\n",
    "            continue\n",
    "        # '>'에 대한 예외처리\n",
    "        if (c == '>'):\n",
    "            i = i + 1\n",
    "            continue\n",
    "        # 주석(//)으로 시작하는 HTML 소스는 주석이 끝나는 라인까지 이동합니다.\n",
    "        if re.match('^//', c):\n",
    "            for j in range(i+1, size):\n",
    "                if re.match('^//', splitContent[j]): break\n",
    "            i = j + 1\n",
    "            continue\n",
    "        # '<'가 문자열 내에서 발견되면 다음 '>'가 발견되는 라인까지 이동합니다.\n",
    "        if '<' in c:\n",
    "            for j in range(i+1, size):\n",
    "                if '>' in splitContent[j]: break\n",
    "            i = j + 1\n",
    "            continue\n",
    "        \n",
    "        words = splitContent[i].split(' ') # 공백을 기준으로 분할합니다. (현재 단위: 텍스트 -> 단어들)\n",
    "\n",
    "        # 공백 또는 빈 단어는 삭제합니다.\n",
    "        while '' in words: words.remove('')\n",
    "        while ' ' in words: words.remove(' ')\n",
    "        \n",
    "        if len(words) > 0:\n",
    "            for word in words:\n",
    "                # 구두문자를 제거합니다.\n",
    "                for c in string.punctuation:\n",
    "                    word = word.replace(c, '')\n",
    "                if len(word) > 0:\n",
    "                    result.append(word) # 변환된 단어들을 요소로 추가합니다.\n",
    "        i = i + 1\n",
    "    return result"
   ]
  },
  {
   "cell_type": "markdown",
   "id": "124ee480-6475-44c9-b469-8f38782bdca1",
   "metadata": {},
   "source": [
    "***"
   ]
  },
  {
   "cell_type": "code",
   "execution_count": 6,
   "id": "86c12f37-c05c-481b-a34d-91fb2ae66079",
   "metadata": {},
   "outputs": [],
   "source": [
    "def getEngSWordList():\n",
    "    with open('stop_words_english.txt', encoding='UTF8') as f: stopWordEng = f.read().splitlines()\n",
    "    return stopWordEng\n",
    "\n",
    "def getKorSWordList():\n",
    "    with open('stop_words_korean.txt', encoding='UTF8') as f: stopWordKor = f.read().splitlines()\n",
    "    return stopWordKor"
   ]
  },
  {
   "cell_type": "markdown",
   "id": "0debe544-554c-4d91-8787-47948fbe22a1",
   "metadata": {},
   "source": [
    "불용어 텍스트파일을 로드하여 시퀀스 자료형으로 구성 및 반환하는 함수입니다."
   ]
  },
  {
   "cell_type": "code",
   "execution_count": 7,
   "id": "10d68d75-a0d5-45bb-a391-a7b52fa67d5a",
   "metadata": {},
   "outputs": [],
   "source": [
    "def urlToFileName(url):\n",
    "    url = re.sub('(http|https)://', '', url)\n",
    "    return url.replace('/', '.')"
   ]
  },
  {
   "cell_type": "markdown",
   "id": "b87a51de-4546-4fd3-a72c-c7d664ea37eb",
   "metadata": {},
   "source": [
    "입력된 url을 파일명으로 변환하기위한 함수입니다.  \n",
    "http를 제거하였고, 슬래시 문자는 .으로 변환하였습니다."
   ]
  },
  {
   "cell_type": "code",
   "execution_count": 8,
   "id": "8297fb48-6400-4211-a672-09a97df5d699",
   "metadata": {},
   "outputs": [],
   "source": [
    "def saveHtmlFile(url):\n",
    "    fileName = urlToFileName(url)+'.html'\n",
    "    html_file = open(fileName, 'w', encoding='UTF-8')\n",
    "    html_file.write(requests.get(url).text)\n",
    "    html_file.close()"
   ]
  },
  {
   "cell_type": "markdown",
   "id": "a6553f34-aefa-44eb-bdec-f3370a91ce93",
   "metadata": {},
   "source": [
    "입력된 url의 html 소스를 읽어 write 해주는 함수입니다."
   ]
  },
  {
   "cell_type": "code",
   "execution_count": 25,
   "id": "d2fab565-1fd3-4f51-9553-482de4525ae3",
   "metadata": {},
   "outputs": [],
   "source": [
    "import pickle\n",
    "def dumpObject(url, word_freq):\n",
    "    fileName = urlToFileName(url)+'.pickle'\n",
    "    with open(fileName+'words_frequency'+'.pickle', 'wb') as f:\n",
    "        pickle.dump(word_freq, f)"
   ]
  },
  {
   "cell_type": "markdown",
   "id": "4caa6da3-b241-4c43-b59c-f6c83904c505",
   "metadata": {},
   "source": [
    "url(경로)와 객체를 입력받아 직렬화하는 함수입니다. (pickle 사용)"
   ]
  },
  {
   "cell_type": "code",
   "execution_count": 26,
   "id": "66e96dc5-0888-4495-ae67-ebdf1c49b693",
   "metadata": {},
   "outputs": [],
   "source": [
    "import pickle\n",
    "def loadObject(url):\n",
    "    fileName = urlToFileName(url)+'.pickle'\n",
    "    with open(fileName+'words_frequency'+'.pickle', 'rb') as f:\n",
    "        data = pickle.load(f)\n",
    "    return data"
   ]
  },
  {
   "cell_type": "markdown",
   "id": "631d4688-0257-4cf7-b57a-c5e6288d919b",
   "metadata": {},
   "source": [
    "url(경로)와 객체를 입력받아 오브젝트를 불러오는 함수입니다. (pickle 사용)"
   ]
  },
  {
   "cell_type": "code",
   "execution_count": 11,
   "id": "11eaea60-a021-4b02-a636-b5841fae3f8c",
   "metadata": {},
   "outputs": [],
   "source": [
    "def freq_word_html(url):\n",
    "    saveHtmlFile(url)\n",
    "    source = requests.get(url).text\n",
    "    \n",
    "    result = remove_tag(source)\n",
    "    \n",
    "    result = [word for word in result if not word in getKorSWordList()]\n",
    "    result = [word for word in result if not word.lower() in getEngSWordList()]\n",
    "    \n",
    "    wordDict = {}\n",
    "    for i in result:\n",
    "        wordDict[i] = wordDict.get(i, 0)+1\n",
    "    wordDict = dict(sorted(wordDict.items(), key=lambda x: x[1], reverse=True))\n",
    "    dumpObject(url, wordDict)"
   ]
  },
  {
   "cell_type": "markdown",
   "id": "813ce3da-23a0-485b-aa9f-5f5b8ff0f706",
   "metadata": {},
   "source": [
    "함수의 앞, 뒤에 각각 HTML저장과 직렬화 기능을 추가하였고  \n",
    "중간에 리스트 내포를 이용하여 불용어를 제거하였습니다."
   ]
  },
  {
   "cell_type": "code",
   "execution_count": 12,
   "id": "be19251f-ab6b-4f41-b2ac-275f224d15af",
   "metadata": {},
   "outputs": [],
   "source": [
    "freq_url_list = [\"https://store.steampowered.com/search\", \n",
    "                \"https://ko.wikipedia.org/wiki/%EB%B8%94%EB%9E%99_%ED%94%84%EB%9D%BC%EC%9D%B4%EB%8D%B0%EC%9D%B4\",\n",
    "                \"https://news.daum.net/digital\",\n",
    "                \"http://link.koreatech.ac.kr\",\n",
    "                \"http://www.nytimes.com\"]\n",
    "\n",
    "for url in freq_url_list:\n",
    "    freq_word_html(url)"
   ]
  },
  {
   "cell_type": "code",
   "execution_count": 13,
   "id": "c6397b08-51be-4fe5-a7ab-ad468079975f",
   "metadata": {},
   "outputs": [
    {
     "name": "stdout",
     "output_type": "stream",
     "text": [
      "₩:87 Steam:16 2021:16 \n",
      "11월:32 billion:11 문서:10 \n",
      "맑음:19 ℃:19 댓글수:14 \n",
      "LINK:13 Intelligent:13 학습:13 \n",
      "York:25 Times:22 Black:14 \n"
     ]
    }
   ],
   "source": [
    "freq_dict_list = [loadObject(url) for url in freq_url_list]\n",
    "for freq_dict in freq_dict_list:\n",
    "    keys = list(freq_dict.keys())\n",
    "    for i in range(0, 3):\n",
    "        print(str.format(\"{}:{}\", keys[i], freq_dict.get(keys[i])), end=' ')\n",
    "    print()"
   ]
  },
  {
   "cell_type": "code",
   "execution_count": 22,
   "id": "3494a6cb-e53d-47c7-9b88-6572e3929df0",
   "metadata": {},
   "outputs": [
    {
     "name": "stdin",
     "output_type": "stream",
     "text": [
      "검색할 단어: 한국기술교육대학교\n",
      "검색할 단어: koreatech\n",
      "검색할 단어: \n"
     ]
    },
    {
     "name": "stdout",
     "output_type": "stream",
     "text": [
      "http://link.koreatech.ac.kr is similar by 39\n",
      "https://news.daum.net/digital is similar by 10\n",
      "https://store.steampowered.com/search is similar by 2\n",
      "https://ko.wikipedia.org/wiki/%EB%B8%94%EB%9E%99_%ED%94%84%EB%9D%BC%EC%9D%B4%EB%8D%B0%EC%9D%B4 is similar by 2\n",
      "http://www.nytimes.com is similar by 2\n"
     ]
    }
   ],
   "source": [
    "#검색어 받기\n",
    "words = []\n",
    "while(True):\n",
    "    word = input(\"검색할 단어:\")\n",
    "    if not word: break\n",
    "    if (not word.lower() in getEngSWordList()) and (not word in getKorSWordList()):\n",
    "        words.extend(word.split(' '))\n",
    "\n",
    "#단어 유사도\n",
    "scores = [[freq_url_list[i], 0] for i in range(len(freq_dict_list))]\n",
    "freq_dict_list = [loadObject(url) for url in freq_url_list]\n",
    "for iDict in range(0, len(freq_dict_list)):\n",
    "    keys = list(freq_dict_list[iDict].keys())\n",
    "    for word in words:\n",
    "        for key in keys:\n",
    "            score = 0\n",
    "            for i in range(0, len(word)):\n",
    "                if i >= len(key): break\n",
    "                elif word[i]==key[i]: score += 1\n",
    "                else: break\n",
    "            scores[iDict][1] += score * freq_dict_list[iDict].get(key)\n",
    "scores.sort(key=lambda x:x[1], reverse=True)\n",
    "for i in scores: print(str.format(\"{} is similar by {}\", i[0], i[1]))"
   ]
  },
  {
   "cell_type": "markdown",
   "id": "89dbd274-db48-45d2-aafe-cf38f0ea4021",
   "metadata": {},
   "source": [
    "__상업적인 완성도 높은 검색 로봇/엔진이 되려면 어떤 기능들이 추가적으로 구현되어야 할까?__  \n",
    "일반적으로 검색은 원하는 정보를 찾아내기위해 사용하기때문에 사용자가 입력한 검색어와 웹사이트의 유사도가 가장 중요한것같고 보완되어야 할 부분이라고 생각된다.  \n",
    "그리고 검색 속도의 최적화 또한 중요한것 같다."
   ]
  },
  {
   "cell_type": "markdown",
   "id": "e6d285e2-3b62-4325-89c3-635522d7f94e",
   "metadata": {},
   "source": [
    "### 느낀점\n",
    "파이썬은 변수의 자료형이 딱 정해져있는게 아니라 실행중에도 바뀔수 있어서 변수이름을 지을때 더 고민이 되는것 같다.  \n",
    "그리고 다른 언어들과 비교했을때, 파이썬의 생산성이 굉장히 좋은것 같다고 체감했다. 라이브러리도 쉽게 사용할 수 있어서 간결한 코드로 원하는 기능을 만들기 좋은것같다."
   ]
  }
 ],
 "metadata": {
  "kernelspec": {
   "display_name": "Python 3 (ipykernel)",
   "language": "python",
   "name": "python3"
  },
  "language_info": {
   "codemirror_mode": {
    "name": "ipython",
    "version": 3
   },
   "file_extension": ".py",
   "mimetype": "text/x-python",
   "name": "python",
   "nbconvert_exporter": "python",
   "pygments_lexer": "ipython3",
   "version": "3.9.5"
  }
 },
 "nbformat": 4,
 "nbformat_minor": 5
}
