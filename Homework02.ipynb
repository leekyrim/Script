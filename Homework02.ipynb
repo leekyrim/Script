{
 "cells": [
  {
   "cell_type": "markdown",
   "id": "7478304d-374f-4957-9479-9ce97239698e",
   "metadata": {},
   "source": [
    "# 스크립트 프로그래밍 Homework #2  \n",
    "스크립트 프로그래밍 02분반  \n",
    "컴퓨터공학부 2018136079 이계림  "
   ]
  },
  {
   "cell_type": "markdown",
   "id": "68c6cba2-67ac-46fa-8e4a-7168e13d025e",
   "metadata": {},
   "source": [
    "# 문제 1.\n",
    "__다음 6 개의 Expression에 대해 Evaluation 결과 값을 출력하고, 해당 결과가 나온 이유에 대해 설명하시오__  \n",
    "1 and 2 and 3 and 4  \n",
    "1 or 2 or 3 or 4  \n",
    "1 and 2 or 3 and 4  \n",
    "(1 and 2) or (3 and 4)  \n",
    "1 or 2 and 3 or 4  \n",
    "(1 or 2) and (3 or 4)"
   ]
  },
  {
   "cell_type": "code",
   "execution_count": 1,
   "id": "0f7510d2-6011-4ddd-a996-9c34b5dfffec",
   "metadata": {},
   "outputs": [
    {
     "name": "stdout",
     "output_type": "stream",
     "text": [
      "4\n",
      "1\n",
      "2\n",
      "2\n",
      "1\n",
      "3\n"
     ]
    }
   ],
   "source": [
    "print(1 and 2 and 3 and 4)\n",
    "print(1 or 2 or 3 or 4)\n",
    "print(1 and 2 or 3 and 4)\n",
    "print((1 and 2) or (3 and 4))\n",
    "print(1 or 2 and 3 or 4)\n",
    "print((1 or 2) and (3 or 4))"
   ]
  },
  {
   "cell_type": "markdown",
   "id": "ce29bdcd-ab34-4c9d-bb43-957c741f1aec",
   "metadata": {},
   "source": [
    "### __설명__  \n",
    "and 연산은 앞의 표현식과 뒤의 표현식이 모두 참이어야 합니다.  \n",
    "앞의 결과 거짓 => 뒤의 결과 확인 불필요 => 앞의 값 또는 객체 반환  \n",
    "앞의 결과 참 => 뒤의 결과 확인 필요 => 뒤의 값 또는 객체 반환  \n",
    "\n",
    "or 연산은  \n",
    "앞의 결과 거짓 => 뒤의 결과 확인 필요 => 뒤의 값 또는 객체 반환  \n",
    "앞의 결과 참 => 뒤의 결과 확인 불필요 => 앞의 값 또는 객체 반환  \n",
    "입니다.\n",
    "\n",
    "따라서 각 Expression은  \n",
    "1번 Expression : 1, 2, 3, 4를 모두 확인해야 하기 때문에 4가 반환됩니다.  \n",
    "2번 Expression : 1이 참이므로 뒤의 결과는 확인할 필요가 없기때문에 1이 반환됩니다.  \n",
    "3번 Expression : and 연산은 or 연산보다 우선순위가 높습니다. 따라서 (1 and 2) or (3 and 4)가 되고 2 or 4가 되어 2가 반한됩니다.  \n",
    "4번 Expression : 3번 Expression과 동일합니다.  \n",
    "5번 Expression : and 연산을 우선적으로 묶으면 1 or (2 and 3) or 4가 되고, 1 or 3 or 4 가 되어 1이 반환됩니다.  \n",
    "6번 Expression : 1 or 2 는 1이 반환되고, 3 or 4는 3이 반환되어 1 and 3을 연산하면 3이 반환됩니다.  \n"
   ]
  },
  {
   "cell_type": "markdown",
   "id": "7dcf025e-13b1-4a54-a5b9-564d914b9a44",
   "metadata": {},
   "source": [
    "# 문제 2.  \n",
    "__경로에 해당하는 문자열 1개를 입력 받아 그 안에 디렉토리 경로명과 파일명을 분리하여 리스트로 반환하는 함수 div_path(s)를 작성하시오.__  \n",
    "인자로 전달하는 문자열은 경로만 들어간다고 가정한다.  \n",
    "각 디렉토리와 파일을 구분하는 문자는 '/'로 가정한다.  \n",
    "반환하는 리스트의 첫번째 원소는 디렉토리이고 두번째 원소는 파일명이다.  \n",
    "다음과 같은 실행 및 출력 결과가 도출되어야 한다.  \n",
    "div_path('/usr/local/bin/python')  \n",
    "['/usr/local/bin', 'python']  \n",
    "div_path('/home/chulsoo/test.txt')  \n",
    "['/home/chulsoo', 'test.txt']  \n",
    "[참고] 리스트(l) 내에 새로운 정수값 (예를 들어 10)을 넣는 방법은 l.append(10) 이다.  "
   ]
  },
  {
   "cell_type": "code",
   "execution_count": 2,
   "id": "7c43797e-8189-4148-8289-47e4e6b20d54",
   "metadata": {},
   "outputs": [],
   "source": [
    "def div_path(s):\n",
    "    for i in range(len(s)-1, -1, -1):\n",
    "        if s[i] == '/':\n",
    "           break\n",
    "    return [s[0:i], s[i+1:]]"
   ]
  },
  {
   "cell_type": "code",
   "execution_count": 3,
   "id": "ece11df4-218f-47b4-a7e6-98c80e34fef9",
   "metadata": {},
   "outputs": [
    {
     "name": "stdout",
     "output_type": "stream",
     "text": [
      "['/usr/local/bin', 'python']\n",
      "['/home/chulsoo', 'test.txt']\n"
     ]
    }
   ],
   "source": [
    "print(div_path('/usr/local/bin/python'))\n",
    "print(div_path('/home/chulsoo/test.txt'))"
   ]
  },
  {
   "cell_type": "markdown",
   "id": "a866e12f-62e7-4e84-b5b7-0524a0094259",
   "metadata": {},
   "source": [
    "### __설명__  \n",
    "\n",
    "경로의 끝에서부터 역순으로 탐색하여(슬라이싱 사용)  \n",
    "/를 발견하면 탐색을 멈춘 뒤, 해당 위치를 기준으로 앞과 뒤를 나눈 2개 요소의 리스트를 반환합니다."
   ]
  },
  {
   "cell_type": "markdown",
   "id": "b7548a1d-73d8-4a00-9f34-875e0c7f8a43",
   "metadata": {},
   "source": [
    "# 문제 3.  \n",
    "__두 개의 리스트를 인자로 받아서 그 두 개의 리스트에 대한 '합집합'을 반환하는 함수 list_union(lista, listb)를 작성하시오.__  \n",
    "집합 자료형 set은 사용하지 않는다.  \n",
    "인자로 전달하는 리스트 2 개에는 정수값만 들어간다고 가정하자.  \n",
    "함수 내에서 새로운 리스트를 만들어 그 리스트 내에 인자로 받은 두 리스트의 모든 원소를 넣어 반환한다.  \n",
    "반환하는 리스트에는 절대로 중복된 원소가 들어 있으면 안된다 (집합의 조건).  \n",
    "반환하는 리스트는 정렬이 되어 있어야 한다.  \n",
    "다음과 같은 실행 및 출력 결과가 도출되어야 한다.  \n",
    "list_union([1, 2, 3], [1, 2, 4])  \n",
    "[1, 2, 3, 4]  \n",
    "list_union([-10, -5, 0, -1], [100, 9, 0, 9])  \n",
    "[-10, -5, -1, 0, 9, 100]  \n",
    "list_union([0, 1, 2], [0, 1, 2])  \n",
    "[0, 1, 2]  \n",
    "[참고] 리스트(l) 내에 새로운 정수값 (예를 들어 10)을 넣는 방법은 l.append(10) 이다.  \n",
    "[참고] 임의의 정수값 (x)이 리스트 (l) 내에 존재하는지 판단하는 방법은 x in l 이다.  "
   ]
  },
  {
   "cell_type": "code",
   "execution_count": 15,
   "id": "2e7c7a89-eb75-4e1b-9839-a2b910cd4372",
   "metadata": {},
   "outputs": [],
   "source": [
    "def Deduplication(L): # 리스트 중복 제거 함수\n",
    "    ret = []\n",
    "    for i in L:\n",
    "        if i not in ret:\n",
    "            ret.append(i)\n",
    "    return ret"
   ]
  },
  {
   "cell_type": "code",
   "execution_count": 5,
   "id": "dbd009ac-d674-4431-a6ba-dc243a3e8026",
   "metadata": {},
   "outputs": [],
   "source": [
    "def list_union(lista, listb):\n",
    "    tmp = lista + listb\n",
    "    return sorted(Deduplication(tmp))"
   ]
  },
  {
   "cell_type": "code",
   "execution_count": 6,
   "id": "d7592fa0-581d-4633-89a8-d902a88c3e8e",
   "metadata": {},
   "outputs": [
    {
     "name": "stdout",
     "output_type": "stream",
     "text": [
      "[1, 2, 3, 4]\n",
      "[-10, -5, -1, 0, 9, 100]\n",
      "[0, 1, 2]\n"
     ]
    }
   ],
   "source": [
    "print(list_union([1, 2, 3], [1, 2, 4]))\n",
    "print(list_union([-10, -5, 0, -1], [100, 9, 0, 9]))\n",
    "print(list_union([0, 1, 2], [0, 1, 2]))"
   ]
  },
  {
   "cell_type": "markdown",
   "id": "89c001a5-6912-4359-bffc-7b1e3edd8fa3",
   "metadata": {},
   "source": [
    "### __설명__  \n",
    "\n",
    "두 개의 리스트를 더하여 임시변수에 담습니다.  \n",
    "그리고 임시변수에서 중복을 제거한 뒤, sorted 함수를 사용하여 정렬된 리스트를 반환합니다.\n"
   ]
  },
  {
   "cell_type": "markdown",
   "id": "5a40bc40-a8de-4a62-be2c-a0be306df934",
   "metadata": {},
   "source": [
    "# 문제 4.\n",
    "\n",
    "__두 개의 리스트를 인자로 받아서 그 두 개의 리스트에 대한 '교집합'을 반환하는 함수 list_intersection(lista, listb)와 '차집합'을 반환하는 함수 list_difference(lista, listb)를 작성하시오.__  \n",
    "모든 가정과 조건은 3번 문제와 동일하다.  "
   ]
  },
  {
   "cell_type": "code",
   "execution_count": 7,
   "id": "649b6e31-03de-43eb-913d-8584d0b9464d",
   "metadata": {},
   "outputs": [],
   "source": [
    "def list_intersection(lista, listb):\n",
    "    ret = []\n",
    "    for i in lista:\n",
    "        if i in listb:\n",
    "            ret.append(i)\n",
    "            continue\n",
    "    return sorted(Deduplication(ret))\n",
    "def list_difference(lista, listb):\n",
    "    ret = lista\n",
    "    intersection = list_intersection(lista, listb)\n",
    "    for i in intersection:\n",
    "        while i in ret:\n",
    "            ret.remove(i)\n",
    "    return ret"
   ]
  },
  {
   "cell_type": "code",
   "execution_count": 8,
   "id": "e96c66a2-b7fc-4c90-834a-3885c353e82e",
   "metadata": {},
   "outputs": [
    {
     "name": "stdout",
     "output_type": "stream",
     "text": [
      "[1, 2]\n",
      "[0]\n",
      "[0, 1, 2]\n",
      "[]\n",
      "\n",
      "[3]\n",
      "[-10, -5, -1]\n",
      "[]\n",
      "[2, 4]\n"
     ]
    }
   ],
   "source": [
    "print(list_intersection([1, 2, 3], [1, 2, 4]))\n",
    "print(list_intersection([-10, -5, 0, -1], [100, 9, 0, 9]))\n",
    "print(list_intersection([0, 1, 2], [0, 1, 2]))\n",
    "print(list_intersection([1, 2, 3], [4, 5, 6]))\n",
    "\n",
    "print()\n",
    "\n",
    "print(list_difference([1, 2, 3], [1, 2, 4]))\n",
    "print(list_difference([-10, -5, 0, -1], [100, 9, 0, 9]))\n",
    "print(list_difference([0, 1, 2], [0, 1, 2]))\n",
    "print(list_difference([1, 2, 3, 4, 5], [1, 3, 5]))"
   ]
  },
  {
   "cell_type": "markdown",
   "id": "63409de4-a3d1-4fd7-a084-77d5e1d41931",
   "metadata": {},
   "source": [
    "### __설명__\n",
    "\n",
    "__교집합__  \n",
    "리스트 a를 순차적으로 탐색하며, 해당 요소가 리스트 b에 있는지 확인합니다.  \n",
    "요소가 발견될 경우 임시 리스트에 해당 요소를 추가합니다.  \n",
    "반복문을 마치면 임시 리스트에 리스트 a와 b의 중복되는 요소가 모두 추가되고,  \n",
    "해당 임시 리스트에서 중복을 제거한 뒤 정렬하여 반환합니다.  \n",
    "  \n",
    "__차집합__  \n",
    "가정: a - b의 차집합이라고 해석했습니다.  \n",
    "임시변수에 리스트 a를 담은 뒤, 앞에서 정의한 함수를 통해 리스트 a와 b의 교집합을 얻어냅니다.  \n",
    "그 다음으로 a와 b의 교집합 리스트를 탐색하며 임시변수에서 제거해줍니다.  \n",
    "결과로 a - b의 차집합을 얻습니다.  "
   ]
  },
  {
   "cell_type": "markdown",
   "id": "82f3c528-58b8-4a34-a182-4890bde7a4f4",
   "metadata": {},
   "source": [
    "# 문제 5.\n",
    "__두 개의 양의 정수를 인자로 받아서 해당 범위안에 있는 소수(prime number)의 리스트를 출력하는 함수 print_primenumber(a, b)를 작성하시오.__  \n",
    "이미 구현된 모듈이나 라이브러리는 사용하지 않는다.  \n",
    "함수의 반환(return)은 없으며 함수 내의 끝에서 .format()을 사용하여 다음과 같이 출력한다.  \n",
    "print_primenumber(2, 10)  \n",
    "2 이상 10 이하 정수 중 소수 리스트: [2, 3, 5, 7]  "
   ]
  },
  {
   "cell_type": "code",
   "execution_count": 9,
   "id": "6cc67d85-0d94-4758-ad7a-ec7a00fac1ab",
   "metadata": {},
   "outputs": [],
   "source": [
    "def print_primenumber(a, b):\n",
    "    ret = []\n",
    "    num = a\n",
    "    if num < 2: #음수 ~ 1은 소수가 아니다\n",
    "        num = 2\n",
    "    while num <= b:\n",
    "        isPrime = True\n",
    "        for i in range(2, num):\n",
    "            if not(num % i):\n",
    "                isPrime = False\n",
    "                break\n",
    "        if isPrime:\n",
    "            ret.append(num)\n",
    "        num += 1\n",
    "    print(\"{0} 이상 {1} 이하 정수 중 소수 리스트: {2}\".format(a, b, ret))"
   ]
  },
  {
   "cell_type": "code",
   "execution_count": 10,
   "id": "b4501054-8dee-4247-aa58-f60b6ba2297d",
   "metadata": {},
   "outputs": [
    {
     "name": "stdout",
     "output_type": "stream",
     "text": [
      "2 이상 10 이하 정수 중 소수 리스트: [2, 3, 5, 7]\n",
      "8 이상 100 이하 정수 중 소수 리스트: [11, 13, 17, 19, 23, 29, 31, 37, 41, 43, 47, 53, 59, 61, 67, 71, 73, 79, 83, 89, 97]\n",
      "-10 이상 10 이하 정수 중 소수 리스트: [2, 3, 5, 7]\n"
     ]
    }
   ],
   "source": [
    "print_primenumber(2, 10)\n",
    "print_primenumber(8, 100)\n",
    "print_primenumber(-10, 10)"
   ]
  },
  {
   "cell_type": "markdown",
   "id": "a55dc5db-05a7-4fd9-82ca-ab718b8a30a9",
   "metadata": {},
   "source": [
    "### __설명__\n",
    "\n",
    "__예외처리: 양의 정수를 인자로 받아서__  \n",
    "음수 즉, 2 미만의 범위 시작값이 입력이 될 경우 값을 2로 고정하였습니다.  \n",
    "\n",
    "중첩 반복문을 통해 [a~b]*[2부터 i] 구간을 반복하여 소수를 판별하고,  \n",
    "판별된 소수를 append 함수를 통해 리스트에 추가하였습니다.  "
   ]
  },
  {
   "cell_type": "markdown",
   "id": "c15ec87a-7f24-4e98-b394-ef6603423d8c",
   "metadata": {
    "tags": []
   },
   "source": [
    "# [Incremental Project 문제]\n",
    "\n",
    "웹 URL로 지정된 웹페이지를 문자열로 가져와 1) 모든 HTML 태그를 제외한 순수 텍스트 문자열만을 걸러내고, 2) 그 순수 텍스트 문자열 안에 존재하는 단어가 총 몇개인지 출력하는 프로그램을 작성하시오.\n",
    "HTML 태그는 다음 조건을 가지는 것이다.\n",
    "\n",
    "< 로 시작하여 >로 끝난다.\n",
    "\n",
    "단어를 나누는 기준은 오로지 공백문자 (whitespace)이다.\n",
    "즉, 위 순수 텍스트 문자열인 \"로그인 유지\"에서 분리한 단어는 \"로그인\"과 \"유지\"이다.\n",
    "중복을 고려하지 않고 무조건 모든 단어의 개수를 세어서 출력한다.\n",
    "본 숙제를 위하여 HTML 파싱과 관련된 모듈 (예. BeautifulSoup) 사용 금지\n",
    "다음은 URL로 지정된 웹페이지를 특정 문자열로 가져오는 코드이다.\n",
    "즉, 숙제 코드는 아래 코드로 부터 시작해야 한다.\n",
    "아래 코드 수행시 requests 모듈이 존재하지 않는 에러가 발생하면 command 창에서 다음 코드 입력하여 requests 모듈 설치후 아래 코드 수행\n",
    "> pip install requests"
   ]
  },
  {
   "cell_type": "code",
   "execution_count": 35,
   "id": "9d578874-9db6-4b9a-97a8-8e46d7907fac",
   "metadata": {},
   "outputs": [],
   "source": [
    "import re\n",
    "import requests\n",
    "\n",
    "def remove_tag(content):\n",
    "    # {}, <>에 대한 정규 표현식 + HTML\n",
    "    reRule = re.compile('{.*}|<.*?>|&([a-z0-9]+|#[0-9]{1,6}|#x[0-9a-f]{1,6});')\n",
    "    \n",
    "    cleanText = content\n",
    "    cleanText = re.sub(reRule, '\\n', cleanText)\n",
    "    \n",
    "    cleanText = re.sub(' +', ' ', cleanText) # 여러개의 공백 제거\n",
    "    cleanText = re.sub('\\t|\\r', '', cleanText) # 탭 문자, 개행문자 제거\n",
    "    cleanText = re.sub('@.*@', '', cleanText) # @...@ 제거\n",
    "    splitContent = cleanText.splitlines() # 한줄 단위로 쪼개어 리스트에 할당(현재 단위: 텍스트 한 라인)\n",
    "   \n",
    "    size = len(splitContent)\n",
    "    result = []\n",
    "\n",
    "    i = 0\n",
    "    while i < size:\n",
    "        splitContent[i] = splitContent[i].strip() # 문자열 양쪽을 잘라냅니다.\n",
    "        c = splitContent[i]\n",
    "        \n",
    "        # var로 시작하는 문자열 : 넘기기\n",
    "        if re.match('^var', c):\n",
    "            i = i + 1\n",
    "            continue\n",
    "        # '>'에 대한 예외처리\n",
    "        if (c == '>'):\n",
    "            i = i + 1\n",
    "            continue\n",
    "        # 주석(//)으로 시작하는 HTML 소스는 주석이 끝나는 라인까지 이동합니다.\n",
    "        if re.match('^//', c):\n",
    "            for j in range(i+1, size):\n",
    "                if re.match('^//', splitContent[j]): break\n",
    "            i = j + 1\n",
    "            continue\n",
    "        # '<'가 문자열 내에서 발견되면 다음 '>'가 발견되는 라인까지 이동합니다.\n",
    "        if '<' in c:\n",
    "            for j in range(i+1, size):\n",
    "                if '>' in splitContent[j]: break\n",
    "            i = j + 1\n",
    "            continue\n",
    "        \n",
    "        words = splitContent[i].split(' ') # 공백을 기준으로 분할합니다. (현재 단위: 텍스트 -> 단어들)\n",
    "\n",
    "        # 공백 또는 빈 단어는 삭제합니다.\n",
    "        while '' in words: words.remove('')\n",
    "        while ' ' in words: words.remove(' ')\n",
    "\n",
    "        if len(words) > 0:\n",
    "            for word in words:\n",
    "                result.append(word) # 변환된 단어들을 요소로 추가합니다.\n",
    "        i = i + 1\n",
    "    return result"
   ]
  },
  {
   "cell_type": "code",
   "execution_count": 37,
   "id": "0bc0759d-6a62-4cec-bb23-b53dba61572c",
   "metadata": {},
   "outputs": [],
   "source": [
    "def count_word_html(source, isPrint = False):\n",
    "    count = 0\n",
    "    result = remove_tag(source)\n",
    "\n",
    "    for i in result:\n",
    "        if isPrint: print(i, end = \" \")\n",
    "        count += 1\n",
    "    return count"
   ]
  },
  {
   "cell_type": "code",
   "execution_count": null,
   "id": "07f6743e-437f-4213-8a0f-5c114e0d5588",
   "metadata": {},
   "outputs": [],
   "source": [
    "req = requests.get(\"https://www.dongascience.com/news.php?idx=32105\")\n",
    "source = req.text\n",
    "print('총 단어 개수: ', count_word_html(source, True))"
   ]
  },
  {
   "cell_type": "code",
   "execution_count": null,
   "id": "cfce9c06-0d8b-4d31-a4a9-ba21fd9680c5",
   "metadata": {},
   "outputs": [],
   "source": [
    "req = requests.get(\"http://naver.com\")\n",
    "source = req.text\n",
    "print('총 단어 개수: ', count_word_html(source, True))"
   ]
  },
  {
   "cell_type": "markdown",
   "id": "cdf8623d-53a8-4649-be47-60cc6e379ceb",
   "metadata": {},
   "source": [
    "### 설명\n",
    "\n",
    "저는 문제 풀이방법을 찾아 정규표현식을 선택했고,  \n",
    "파이썬 내장모듈인 re 모듈을 사용하였습니다.  \n",
    "\n",
    "remove_tag 함수의 주요 로직을 설명드리겠습니다.\n",
    "1. 입력된 문자열에서 <> 괄호로 묶인 표현식을 찾아 개행문자로 치환합니다.  \n",
    "    {}과 HTML 특수문자 코드표 등에 대한 예외처리도 같이했습니다.  \n",
    "2. 예외처리  \n",
    "    2칸 이상의 공백 -> 1칸의 공백으로 치환  \n",
    "    탭문자 개행문자 -> 제거  \n",
    "    @ 내용 @ -> 제거  \n",
    "3. 처리를 마친 문자열을 한 줄 단위로 쪼개어 리스트에 담습니다. (splitlines)  \n",
    "4. 한 줄 단위로 나눠진 리스트를 반복문을 통해 탐색합니다.  \n",
    "   조건에 해당하는 문자열들은 건너뜁니다.  \n",
    "       조건: var로 시작하는 문자열 => 건너뜁니다.  \n",
    "             문자 '>' => 건너뜁니다.  \n",
    "             주석으로 시작하는 문자열 => 다음 주석이 있는 라인까지 건너뜁니다.  \n",
    "             '<' 가 문자열 내에 있을경우 => 다음 '>'가 있는 라인까지 건너뜁니다.  \n",
    "   조건에 걸리지 않은 문자열들은 공백을 기준으로 분할합니다. (split)  \n",
    "   분할되어 반환된 리스트에서 공백 또는 빈칸을 제거합니다. (단어가 아니기 때문입니다.)  \n",
    "5. 처리를 마친 단어 리스트에 요소가 있을 경우 결과 리스트에 append 합니다.\n",
    "\n",
    "count_word_html 함수는 html소스와 출력여부를 인자로 받아  \n",
    "remove_tag 함수를 실행한 뒤, 반환된 단어 리스트의 개수를 count 하여 반환해줍니다.  \n",
    "출력 여부에 따라 단어를 출력해줍니다.  "
   ]
  },
  {
   "cell_type": "markdown",
   "id": "7062bc5d-6b0b-4680-b530-ac463b88f5ea",
   "metadata": {},
   "source": [
    "### 소감\n",
    "\n",
    "BeautifulSoup를 사용해서 웹 크롤링을 가볍게 경험해봤으나,  \n",
    "이번에 Incremental Project를 하면서 생각한것 이상으로 예외처리 할 내용이 많아 어려움을 겪었습니다.  \n",
    "나름대로 여러 URL을 입력해가며 예외처리를 하였으나 분명한 해답은 아닌것 같았습니다.  \n",
    "HTML에 포함되있는 function 같은 것들은 어떻게 작성되었는지 HTML을 자세하게는 모르기 때문에 어떻게 삭제해야할지 생각이 닿지가 않습니다.  \n",
    "\n",
    "그래도 수업에서 잘 이끌어 주시리라 믿고 집중해서 따라가 보겠습니다."
   ]
  },
  {
   "cell_type": "code",
   "execution_count": null,
   "id": "ab857649-3727-405e-ad2a-6fd75dd5c446",
   "metadata": {},
   "outputs": [],
   "source": []
  }
 ],
 "metadata": {
  "kernelspec": {
   "display_name": "Python 3 (ipykernel)",
   "language": "python",
   "name": "python3"
  },
  "language_info": {
   "codemirror_mode": {
    "name": "ipython",
    "version": 3
   },
   "file_extension": ".py",
   "mimetype": "text/x-python",
   "name": "python",
   "nbconvert_exporter": "python",
   "pygments_lexer": "ipython3",
   "version": "3.9.5"
  }
 },
 "nbformat": 4,
 "nbformat_minor": 5
}
