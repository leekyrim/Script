{
 "cells": [
  {
   "cell_type": "markdown",
   "id": "f1a40f73-2748-41c5-ae36-cdebcc649d01",
   "metadata": {
    "tags": []
   },
   "source": [
    "# 스크립트 프로그래밍 Homework #5  \n",
    "스크립트 프로그래밍 02분반  \n",
    "컴퓨터공학부 2018136079 이계림  "
   ]
  },
  {
   "cell_type": "markdown",
   "id": "d42e5c43-1a12-4c87-9a3b-6016f045d1c9",
   "metadata": {},
   "source": [
    "### 문제 1. 클래스와 모듈의 공통점과 차이점에 대해 설명하시오"
   ]
  },
  {
   "cell_type": "markdown",
   "id": "d47cf5b1-b5ab-4225-9560-2bd25a01a931",
   "metadata": {},
   "source": [
    "__클래스와 모듈의 공통점__  \n",
    "둘 다 실행시간에 오브젝트로 존재하고 데이터를 통합하여 개발자의 객체 지향 프로그래밍을 돕습니다.  \n",
    "__클래스와 모듈의 차이점__  \n",
    "클래스는 멤버 변수와 메소드를 가지고 상속등을 사용하여 객체를 디자인합니다. 모듈은 프로그램을 구성하는 요소들을 적절히 나눈 단위입니다. 따라서 클래스처럼 인스턴스화하여 객체를 수정하고 사용하지 않습니다."
   ]
  },
  {
   "cell_type": "markdown",
   "id": "7ee3f14a-e172-4390-90d6-5bb3fdad2342",
   "metadata": {},
   "source": [
    "### 문제 2. 다형성에 대해 설명하고 다형성을 보여주는 자신만의 파이썬 코드 예제를 제시하시오."
   ]
  },
  {
   "cell_type": "markdown",
   "id": "e1ca2859-7e89-464a-a4f2-40c5e24bdce6",
   "metadata": {},
   "source": [
    "다형성이란 상속을 통해 구현할수있는 객체지향 프로그래밍의 성질로, 상위 클래스를 통해 상위클래스를 상속받는 하위클래스들의 인터페이스를 서로 다르게 구현할 수 있는 것입니다.  \n",
    "\n",
    "아래의 예제는 떡볶이객체가 로제떡볶이와 치즈떡볶이로 나뉘어 처리되는것을 preparation 함수 오버라이드를 통해 표현 해봤습니다."
   ]
  },
  {
   "cell_type": "code",
   "execution_count": 128,
   "id": "ccc85a2c-1cb5-40f2-b828-4b7314998555",
   "metadata": {},
   "outputs": [
    {
     "name": "stdout",
     "output_type": "stream",
     "text": [
      "Tteokbokki에 필요한 재료는 tteok, water, sugar, red pepper 입니다.\n",
      "\n",
      "RoseTteokbokki에 필요한 재료는 tteok, water, sugar, red pepper, cream, tomato, sausage 입니다.\n",
      "\n",
      "CheeseTteokbokki에 필요한 재료는 tteok, water, sugar, red pepper, cream, tomato, sausage, too many cheese 입니다.\n",
      "\n"
     ]
    }
   ],
   "source": [
    "class Tteokbokki:\n",
    "    ingredients = []\n",
    "    def preparation(self):\n",
    "        self.ingredients.extend([\"tteok\", \"water\", \"sugar\", \"red pepper\"])\n",
    "    def __init__(self):\n",
    "        self.preparation()\n",
    "        print(self.__class__.__name__+\"에 필요한 재료는 \"+\", \".join(self.ingredients)+\" 입니다.\\n\")\n",
    "        \n",
    "class RoseTteokbokki(Tteokbokki):\n",
    "    def preparation(self):\n",
    "        self.ingredients.extend([\"cream\", \"tomato\", \"sausage\"])\n",
    "        \n",
    "class CheeseTteokbokki(Tteokbokki):\n",
    "    def preparation(self):\n",
    "        self.ingredients.extend([\"too many cheese\"])\n",
    "\n",
    "        \n",
    "orders = [Tteokbokki(), RoseTteokbokki(), CheeseTteokbokki()]"
   ]
  },
  {
   "cell_type": "markdown",
   "id": "7fe73c12-81d2-45f6-a2af-d65153d165da",
   "metadata": {},
   "source": [
    "### 문제 3. 다음 각 요구사항 모두를 만족시키는 Counter 클래스를 코딩하시오"
   ]
  },
  {
   "cell_type": "markdown",
   "id": "3d005038-5701-4055-87cc-b373ae675db2",
   "metadata": {},
   "source": [
    "요구사항 1. 생성자에 count 값과 step 값을 인자로 받을 수 있다.\n",
    "- count: Counter 인스턴스가 지니는 초기 정수 값\n",
    "- step: Counter 인스턴스의 count가 증가되는 증분 (defalt 값: 1)"
   ]
  },
  {
   "cell_type": "markdown",
   "id": "10fd8aab-80d1-4489-a420-86067b3be420",
   "metadata": {},
   "source": [
    "요구사항 2. 다음과 같이 Counter의 인스턴스를 출력을 해주는 \\_\\_str\\_\\_() 메소드를 Counter 클래스 내에 구현하시오."
   ]
  },
  {
   "cell_type": "markdown",
   "id": "4712247f-3ca5-45b4-a308-1bf9d10b4868",
   "metadata": {},
   "source": [
    "요구사항 3. 다음과 같이 step에 주어진 증분만큼 count를 증가시키는 incr() 메소드를 Counter 클래스 내에 구현하시오."
   ]
  },
  {
   "cell_type": "markdown",
   "id": "cf4dd8b7-69fa-4f6c-8e46-fa40cc3fbef3",
   "metadata": {},
   "source": [
    "요구사항 4. Counter 클래스 내에 관련 메소드를 추가하여 인스턴스 객체를 직접 호출(call)할 수 있도록 하시오. 인스턴스 객체를 직접 호출했을 때에 내부적으로 incr() 메소드를 호출하는 방법으로 구현하시오."
   ]
  },
  {
   "cell_type": "markdown",
   "id": "f3be88b9-5925-4007-851a-f3d6da807f40",
   "metadata": {},
   "source": [
    "요구사항 5. 다음과 같은 두 개의 산술 연산 (+, -)이 수행될 수 있도록 Counter 클래스 내에 관련 메소드를 추가하시오."
   ]
  },
  {
   "cell_type": "markdown",
   "id": "1c149ed4-6b0b-4929-8c1a-8d1ff8384628",
   "metadata": {},
   "source": [
    "요구사항 6. 다음과 같은 관계연산 (>, <, ==)이 수행될 수 있도록 Counter 클래스 내에 관련 메소드를 추가하시오."
   ]
  },
  {
   "cell_type": "code",
   "execution_count": 52,
   "id": "da97bd53-33d3-442d-9ace-cfc285fc0001",
   "metadata": {},
   "outputs": [],
   "source": [
    "class Counter:\n",
    "    def __init__(self, count, step = 1):\n",
    "        self.count = count\n",
    "        self.step = step\n",
    "    def __str__(self):\n",
    "        return str.format(\"[Count (step: {})] {}\", self.step, self.count)\n",
    "    def incr(self):\n",
    "        self.count += self.step\n",
    "    def __call__(self):\n",
    "        self.incr()\n",
    "    def __add__(self, x):\n",
    "        self.count += x\n",
    "        return self\n",
    "    def __sub__(self, x):\n",
    "        self.count -= x\n",
    "        return self\n",
    "    def __lt__(self, other):\n",
    "        return self.count < other\n",
    "    def __gt__(self, other):\n",
    "        return self.count > other\n",
    "    def __eq__(self, other):\n",
    "        return self.count == other"
   ]
  },
  {
   "cell_type": "code",
   "execution_count": 53,
   "id": "2d041e83-2e08-4605-8334-dff18d647f13",
   "metadata": {},
   "outputs": [
    {
     "name": "stdout",
     "output_type": "stream",
     "text": [
      "[Count (step: 1)] 10\n",
      "[Count (step: 2)] 10\n",
      "[Count (step: 1)] 11\n",
      "[Count (step: 2)] 12\n",
      "[Count (step: 1)] 12\n",
      "[Count (step: 2)] 14\n",
      "[Count (step: 1)] 17\n",
      "[Count (step: 2)] 9\n",
      "True\n",
      "False\n",
      "False\n",
      "True\n",
      "True\n",
      "False\n"
     ]
    }
   ],
   "source": [
    "a = Counter(10)\n",
    "b = Counter(10, 2)\n",
    "print(a)\n",
    "print(b)\n",
    "a.incr()\n",
    "b.incr()\n",
    "print(a)\n",
    "print(b)\n",
    "a()\n",
    "b()\n",
    "print(a)\n",
    "print(b)\n",
    "a = a + 5\n",
    "b = b - 5\n",
    "print(a)\n",
    "print(b)\n",
    "\n",
    "print(a > 10)\n",
    "print(b > 10)\n",
    "print(a < 10)\n",
    "print(b < 10)\n",
    "print(a == 17)\n",
    "print(b != 9)"
   ]
  },
  {
   "cell_type": "markdown",
   "id": "f4ba1ef7-aee8-435a-9dd6-b3fb29206003",
   "metadata": {},
   "source": [
    "- __클래스 매직 메서드__  \n",
    "\\_\\_init\\_\\_ : 생성자  \n",
    "\\_\\_str\\_\\_ : to_string    \n",
    "\\_\\_call\\_\\_ : 객체 함수 호출  \n",
    "\n",
    "- 연산자  \n",
    "\\_\\_add\\_\\_ : + 연산자(L)  \n",
    "\\_\\_sub\\_\\_ : - 연산자(L)  \n",
    "- 비교 표현식  \n",
    "\\_\\_lt\\_\\_ : little  \n",
    "\\_\\_gt\\_\\_ : greater  \n",
    "\\_\\_eq\\_\\_ : equal  "
   ]
  },
  {
   "cell_type": "markdown",
   "id": "194cd0f9-43a0-45d2-9ceb-9c310b3db642",
   "metadata": {},
   "source": [
    "### 문제 4. 다음 클래스 정의에서 \\_\\_init\\_\\_(), \\_\\_str\\_\\_(), elimicate_duplicate()의 세 개의 메소드 코드 내용을 자신이 다른 사람에게 가르친다고 생각하며 설명해보시오."
   ]
  },
  {
   "cell_type": "code",
   "execution_count": 134,
   "id": "3576a8a5-b640-4026-a09e-350ad8531c6a",
   "metadata": {},
   "outputs": [
    {
     "name": "stdout",
     "output_type": "stream",
     "text": [
      "MySet: {1, 2, 3}\n",
      "MySet: {2, 3, 4, 5, 6, 7, 8, 9}\n"
     ]
    }
   ],
   "source": [
    "class MySet(list):\n",
    "    def __init__(self, l):\n",
    "        for e in l:\n",
    "            self.append(e)\n",
    "        MySet.eliminate_duplicate(self)\n",
    "    \n",
    "    def __str__(self):\n",
    "        result = \"MySet: {\"\n",
    "        for e in self:\n",
    "            result = result + str(e) + \", \"\n",
    "        result = result[0:len(result)-2] + \"}\"\n",
    "        return result\n",
    "\n",
    "    @staticmethod    \n",
    "    def eliminate_duplicate(l):\n",
    "        s = []\n",
    "        for e in l:\n",
    "            if e not in s:\n",
    "                s.append(e)\n",
    "        l[:] = []\n",
    "        for e in s:\n",
    "            l.append(e)\n",
    "\n",
    "    \n",
    "if __name__ == \"__main__\":\n",
    "    s = MySet([1, 2, 2, 3])\n",
    "    print(s)\n",
    "    t = MySet([2, 3, 4, 5, 6, 7, 8, 8, 8, 8, 8, 9])\n",
    "    print(t)"
   ]
  },
  {
   "cell_type": "markdown",
   "id": "40797d9d-c916-433d-a915-56a7b6127cc9",
   "metadata": {},
   "source": [
    "### __설명__  \n",
    "- init  \n",
    "객체가 생성될때 호출되는 생성자 매직메소드  \n",
    "MySet 클래스의 객체가 생성될 때 호출되어, 인자로 입력된 요소들을 자신에게 append 한다.  \n",
    "그리고 자신을 인자로 eliminate_duplicate 함수를 실행하여 중복요소를 제거한다.\n",
    "- str  \n",
    "객체의 정보를 문자열로 받을때 호출되는 매직메소드  \n",
    "main의 코드를 보면 print 함수의 인자로 객체를 넣었다. 이때, 해당하는 객체의 str 매직메소드가 호출이 되고  \n",
    "해당 메소드에서 의도한 클래스의 정보를 문자열로 반환하도록 메소드를 디자인 한다.  \n",
    "- elimicate_duplicate  \n",
    "인스턴스를 만들지 않아도 호출 가능한 정적메소드  \n",
    "기본적으로 함수 호출에는 객체가 필요하지만, 정적 메소드로 선언시 객체 없이도 함수 호출이 가능하다.  \n",
    "eliminated_duplicate 함수는 주어진 코드에서 인자로 받은 중복요소를 제거해주는 용도로 사용된다.  \n",
    "따라서 객체 개개인이 해당 메소드를 다르게 처리하지 않으므로, 정적 메소드로 디자인을 의도한 것 같다."
   ]
  },
  {
   "cell_type": "markdown",
   "id": "359f8e84-10b9-476d-841f-aa10df138823",
   "metadata": {},
   "source": [
    "### 문제 5. 4번 문제에 정의된 MySet 클래스에 메소드를 추가하여 다음 각 요구사항 모두를 만족시키는 코딩을 제시하시오."
   ]
  },
  {
   "cell_type": "markdown",
   "id": "e52fd0c7-4578-4159-94d9-0a973019428a",
   "metadata": {},
   "source": [
    "요구사항 1. | 연산으로 두 집합의 합집합을 반환한다.  \n",
    "요구사항 2. & 연산으로 두 집합의 교집합을 반환한다.  \n",
    "요구사항 3. - 연산으로 두 집합의 차집합을 반환한다.  "
   ]
  },
  {
   "cell_type": "code",
   "execution_count": 11,
   "id": "79837476-c7f6-4dd2-8bab-44822b31df8c",
   "metadata": {},
   "outputs": [
    {
     "name": "stdout",
     "output_type": "stream",
     "text": [
      "MySet: {1, 2, 3, 4, 5, 6, 7, 8, 9}\n",
      "MySet: {2, 3}\n",
      "MySet: {1}\n"
     ]
    }
   ],
   "source": [
    "class MySet(list):\n",
    "    def __init__(self, l):\n",
    "        for e in l:\n",
    "            self.append(e)\n",
    "        MySet.eliminate_duplicate(self)\n",
    "    \n",
    "    def __str__(self):\n",
    "        result = \"MySet: {\"\n",
    "        for e in self:\n",
    "            result = result + str(e) + \", \"\n",
    "        result = result[0:len(result)-2] + \"}\"\n",
    "        return result\n",
    "\n",
    "    @staticmethod    \n",
    "    def eliminate_duplicate(l):\n",
    "        s = []\n",
    "        for e in l:\n",
    "            if e not in s:\n",
    "                s.append(e)\n",
    "        l[:] = []\n",
    "        for e in s:\n",
    "            l.append(e)\n",
    "            \n",
    "    def __and__(self, other):\n",
    "        return MySet(set(self) & set(other))\n",
    "    def __or__(self, other):\n",
    "        return MySet(set(self) | set(other))\n",
    "    def __sub__(self, other):\n",
    "        return MySet(set(self) - set(other))\n",
    "    \n",
    "s = MySet([1, 2, 2, 3])\n",
    "t = MySet([2, 3, 4, 5, 6, 7, 8, 8, 8, 8, 8, 9])\n",
    "\n",
    "u = s | t\n",
    "print(u)\n",
    "u = s & t\n",
    "print(u)\n",
    "u = s - t\n",
    "print(u)"
   ]
  },
  {
   "cell_type": "markdown",
   "id": "b856a55f-ffdc-4bf4-869c-ed607fb265b9",
   "metadata": {},
   "source": [
    "### 설명"
   ]
  },
  {
   "cell_type": "markdown",
   "id": "e87a558e-8195-46d6-bd57-207dc972a517",
   "metadata": {},
   "source": [
    "### 문제 6. 다음 예제 내에 있는 len(), bool() 내장함수와 in 키워드 사용 예제가 별다른 메소드 정의를 하지 않았는 데도 올바르게 수행되는 이유를 설명하시오.\n",
    "\n",
    "- s = MySet([1, 2, 3, 4, 5, 6]) print(len(s))  \n",
    "- 6 print(bool(s)) True print(2 in s) True"
   ]
  },
  {
   "cell_type": "markdown",
   "id": "7a6b8810-4b80-4b46-a08a-d1e2219ce861",
   "metadata": {},
   "source": [
    "### __설명__  \n",
    "요구사항 1. | 연산을 구현하기 위하여 \\_\\_or\\_\\_ 매직메소드를 사용했습니다.  \n",
    "요구사항 2. & 연산을 구현하기 위하여 \\_\\_and\\_\\_ 매직메소드를 사용했습니다.  \n",
    "요구사항 3. - 연산을 구현하기 위하여 \\_\\_sub\\_\\_ 매직메소드를 사용했습니다.  \n",
    "\n",
    "각각의 매직메소드는 호출될때 자신과 인자로 받은 피연산 객체를 Set으로 변환하여 집합 연산을 처리한 뒤, 반환해줍니다."
   ]
  },
  {
   "cell_type": "markdown",
   "id": "bc98a345-b4e0-4dd4-a86a-5199c218c8e4",
   "metadata": {},
   "source": [
    "# [Incremental Project 문제]\n",
    "\n",
    "__1. Assignment 3 & Assignment 4의 Incremental Project 코드를 다시 확장/변형하여 다음과 같은 조건을 만족하도록 구현하시오 (CODE REFACTORING!!!).__\n",
    "\n",
    "- 1) 새로운 클래스 SearchEngine를 정의하시오.\n",
    "- 2) 생성자에 URL을 0개에서 임의의 개수를 넣을 수 있도록 생성자 인수를 가변인수로 정의하여 각각의 URL을 리스트 자료형에 유지하시오.\n",
    "- 3) addUrl() 메소드를 구현하여 인스턴스를 생성한 이후에도 URL을 추가할 수 있도록 한다.\n",
    "- 4) removeUrl() 메소드를 구현하여 URL을 삭제할 수 있도록 한다.\n",
    "- 5) listUrls() 메소드를 구현하여 현재 등록된 모든 URL을 출력하는 기능을 추가\n",
    "- 6) getWordsFrequency() 메소드를 구현하여 각 URL의 웹페이지들을 종합적으로 분석한 단어 출현 빈도 사전을 반환하시오.\n",
    "- 7) getMaxFreqencyWords() 메소드를 구현하여 각 URL의 웹페이지들을 종합적으로 분석한 단어 출현 빈도 사전에서 가장 많이 출현한 단어 리스트를 반환하시오.\n",
    "- 8) 임의의 단어 1개를 파라미터로 받는 searchUrlByWord() 메소드를 구현하여 유사도가 높은 웹 사이트를 출력하시오."
   ]
  },
  {
   "cell_type": "code",
   "execution_count": 116,
   "id": "9861c6a6-7122-408e-9595-0134873752bb",
   "metadata": {},
   "outputs": [],
   "source": [
    "import re\n",
    "import requests\n",
    "import string\n",
    "\n",
    "class SearchEngine:\n",
    "    listURL = []\n",
    "    def __init__(self, *args):\n",
    "        self.listURL = []\n",
    "        for url in args:\n",
    "            self.listURL.append(url)\n",
    "    def addUrl(self, url):\n",
    "        if not url in self.listURL:\n",
    "            self.listURL.append(url)\n",
    "    def removeUrl(self, url):\n",
    "        while url in self.listURL:\n",
    "            self.listURL.remove(url)\n",
    "    def listUrls(self):\n",
    "        for url in self.listURL:\n",
    "            print(url)\n",
    "    \n",
    "    def getWordsFrequency(self):\n",
    "        dictFreq = dict()\n",
    "        for url in self.listURL:\n",
    "            wordDict = self.getWordsDictionary(url)\n",
    "            for i in wordDict:\n",
    "                if i in dictFreq: dictFreq[i] += wordDict[i]\n",
    "                else: dictFreq[i] = wordDict[i]\n",
    "        dictFreq = dict(sorted(dictFreq.items(), key=lambda x: x[1], reverse=True))\n",
    "        if len(dictFreq)<=0: dictFreq = None\n",
    "        return dictFreq\n",
    "    def getMaxFreqencyWords(self):\n",
    "        if len(self.listURL)<=0: return None\n",
    "        dictFreq = self.getWordsFrequency()\n",
    "        maxFreq = {}\n",
    "        \n",
    "        flagMin = -1\n",
    "        for i in dictFreq:\n",
    "            if dictFreq[i] < flagMin: break\n",
    "            maxFreq[i] = dictFreq[i]\n",
    "            flagMin = dictFreq[i]\n",
    "        return maxFreq\n",
    "    def searchUrlByWord(self, word):\n",
    "        searchUrl = None\n",
    "        \n",
    "        words = []\n",
    "        if not word: return None\n",
    "        if (not word.lower() in self.getEngSWordList()) and (not word in self.getKorSWordList()):\n",
    "            words.extend(word.split(' '))\n",
    "            \n",
    "        count = 0\n",
    "        scores = {}\n",
    "        \n",
    "        #단어 유사도\n",
    "        for url in self.listURL:\n",
    "            scores[url] = 0\n",
    "            wordDict = self.getWordsDictionary(url)\n",
    "            \n",
    "            for w in words:\n",
    "                if wordDict.get(w):\n",
    "                    scores[url]+= wordDict[w]\n",
    "        return max(scores, key=scores.get)\n",
    "    \n",
    "    @staticmethod\n",
    "    def remove_tag(content):\n",
    "        #<script>와 <style> 태그 삭제\n",
    "        left = content.find('<script')\n",
    "        while left >= 0:\n",
    "            right = content.find('</script>')\n",
    "            if right >= 0:\n",
    "                content = content[0:left]+content[right+len('<script>'):]\n",
    "            left = content.find('<script')\n",
    "\n",
    "        left = content.find('<style')\n",
    "        while left >= 0:\n",
    "            right = content.find('</style>')\n",
    "            if right >= 0:\n",
    "                content = content[0:left]+content[right+len('<style>'):]\n",
    "            left = content.find('<style')\n",
    "\n",
    "        # {}, <>에 대한 정규 표현식 + HTML\n",
    "        reRule = re.compile('{.*}|<.*?>|&([a-z0-9]+|#[0-9]{1,6}|#x[0-9a-f]{1,6});')\n",
    "\n",
    "        cleanText = content\n",
    "        cleanText = re.sub(reRule, '\\n', cleanText)\n",
    "\n",
    "        cleanText = re.sub(' +', ' ', cleanText) # 여러개의 공백 제거\n",
    "        cleanText = re.sub('\\t|\\r', '', cleanText) # 탭 문자, 개행문자 제거\n",
    "        cleanText = re.sub('@.*@', '', cleanText) # @...@ 제거\n",
    "        splitContent = cleanText.splitlines() # 한줄 단위로 쪼개어 리스트에 할당(현재 단위: 텍스트 한 라인)\n",
    "\n",
    "        size = len(splitContent)\n",
    "        result = []\n",
    "\n",
    "        i = 0\n",
    "        while i < size:\n",
    "            splitContent[i] = splitContent[i].strip() # 문자열 양쪽을 잘라냅니다.\n",
    "            c = splitContent[i]\n",
    "\n",
    "            # var로 시작하는 문자열 : 넘기기\n",
    "            if re.match('^var', c):\n",
    "                i = i + 1\n",
    "                continue\n",
    "            # '>'에 대한 예외처리\n",
    "            if (c == '>'):\n",
    "                i = i + 1\n",
    "                continue\n",
    "            # 주석(//)으로 시작하는 HTML 소스는 주석이 끝나는 라인까지 이동합니다.\n",
    "            if re.match('^//', c):\n",
    "                for j in range(i+1, size):\n",
    "                    if re.match('^//', splitContent[j]): break\n",
    "                i = j + 1\n",
    "                continue\n",
    "            # '<'가 문자열 내에서 발견되면 다음 '>'가 발견되는 라인까지 이동합니다.\n",
    "            if '<' in c:\n",
    "                for j in range(i+1, size):\n",
    "                    if '>' in splitContent[j]: break\n",
    "                i = j + 1\n",
    "                continue\n",
    "\n",
    "            words = splitContent[i].split(' ') # 공백을 기준으로 분할합니다. (현재 단위: 텍스트 -> 단어들)\n",
    "\n",
    "            # 공백 또는 빈 단어는 삭제합니다.\n",
    "            while '' in words: words.remove('')\n",
    "            while ' ' in words: words.remove(' ')\n",
    "\n",
    "            if len(words) > 0:\n",
    "                for word in words:\n",
    "                    # 구두문자를 제거합니다.\n",
    "                    for c in string.punctuation:\n",
    "                        word = word.replace(c, '')\n",
    "                    if len(word) > 0:\n",
    "                        result.append(word) # 변환된 단어들을 요소로 추가합니다.\n",
    "            i = i + 1\n",
    "        return result\n",
    "    \n",
    "    @staticmethod\n",
    "    def getWordsDictionary(url):\n",
    "        source = requests.get(url).text\n",
    "        result = SearchEngine.remove_tag(source)\n",
    "\n",
    "        result = [word for word in result if not word in SearchEngine.getKorSWordList()]\n",
    "        result = [word for word in result if not word.lower() in SearchEngine.getEngSWordList()]\n",
    "\n",
    "        wordDict = {}\n",
    "        for i in result:\n",
    "            wordDict[i] = wordDict.get(i, 0)+1\n",
    "        return wordDict\n",
    "    \n",
    "    @staticmethod\n",
    "    def getEngSWordList():\n",
    "        with open('stop_words_english.txt', encoding='UTF8') as f: stopWordEng = f.read().splitlines()\n",
    "        return stopWordEng\n",
    "    @staticmethod\n",
    "    def getKorSWordList():\n",
    "        with open('stop_words_korean.txt', encoding='UTF8') as f: stopWordKor = f.read().splitlines()\n",
    "        return stopWordKor"
   ]
  },
  {
   "cell_type": "code",
   "execution_count": null,
   "id": "b207efa0-1c3d-494a-860b-c8c26d4086e6",
   "metadata": {},
   "outputs": [],
   "source": [
    "se = SearchEngine(\"https://news.daum.net/digital\",\n",
    "                \"http://link.koreatech.ac.kr\",\n",
    "                \"http://www.nytimes.com\")\n",
    "print(se.searchUrlByWord(\"LINK\"))\n",
    "print(se.searchUrlByWord(\"Times\"))\n",
    "print(se.getMaxFreqencyWords())\n",
    "print(se.getWordsFrequency())"
   ]
  },
  {
   "cell_type": "markdown",
   "id": "9ff2ebef-91ad-4abb-ae0b-98166de9a154",
   "metadata": {},
   "source": [
    "__2. 위 1번 문제에서 정의한 SearchEngine 클래스를 상속하여 SearchEngineWithOrderedWebWords 클래스를 정의하고 슈퍼클래스에 정의된 getWordsFrequency() 메소드를 오버라이드하여 단어 출현 빈도를 내림 차순으로 정렬하여 리스트로 출력하시오.¶__\n",
    "- 리스트 내의 각 원소는 단어와 빈도를 쌍으로 지니는 튜플이다.\n",
    "- getWordFrequence() 메소드에 reverse 라는 인자를 만들고 true 또는 false를 인자로 받을 수 있도록 한다.\n",
    "\n",
    "    - reverse 인자의 디폴트 값은 false 이며, 기본적으로 내림차순으로 정렬한다.\n",
    "    - reverse 인자에 true를 넣으면 오름차순으로 정렬한다.\n",
    "    \n",
    "__3. 다음과 같은 코딩이 가능하도록 SearchEngineWithOrderedWebWords안에 반복자와 관련된 메소드를 추가하시오.__"
   ]
  },
  {
   "cell_type": "code",
   "execution_count": 105,
   "id": "9043610a-dd89-4437-9329-f267ad45c083",
   "metadata": {},
   "outputs": [],
   "source": [
    "class SearchEngineWithOrderedWebWords(SearchEngine):\n",
    "    dictList = []\n",
    "    def getWordsFrequency(self, reverse=False):\n",
    "        dictFreq = {}\n",
    "        for url in self.listURL:\n",
    "            wordDict = self.getWordsDictionary(url)\n",
    "            for i in wordDict:\n",
    "                if i in dictFreq: dictFreq[i] += wordDict[i]\n",
    "                else: dictFreq[i] = wordDict[i]\n",
    "        self.dictList = list(sorted(dictFreq.items(), key=lambda x: x[1], reverse=not(reverse)))\n",
    "        if len(self.dictList)<=0: self.dictList = None\n",
    "        return self.dictList\n",
    "    \n",
    "    def __iter__(self):\n",
    "        self.index = 0\n",
    "        return self\n",
    " \n",
    "    def __next__(self):\n",
    "        if self.index >= len(self.dictList):\n",
    "            raise StopIteration\n",
    "        self.index += 1\n",
    "        return self.dictList[self.index]"
   ]
  },
  {
   "cell_type": "code",
   "execution_count": null,
   "id": "1a92e291-9ea9-4065-af13-1bc1b711542e",
   "metadata": {},
   "outputs": [],
   "source": [
    "w4 = SearchEngineWithOrderedWebWords('http://www.times.com', 'https://www.amazon.com', 'https://github.com')\n",
    "w4.getWordsFrequency(False)\n",
    "for i in w4: print(i)"
   ]
  },
  {
   "cell_type": "markdown",
   "id": "e6d285e2-3b62-4325-89c3-635522d7f94e",
   "metadata": {},
   "source": [
    "### 느낀점\n",
    "\n",
    "음... incremental project를 진행하면서 조금 부담스러움이 없지않아 있었는데 그래도 부족하지만 마무리를 잘 해서 뿌듯한 것 같습니다.  \n",
    "파이썬은 역시 쓰면서 배울게 더 많은 언어인것 같다고 느꼈고 비대면이다보니 조금 아쉬움도 느껴집니다.  \n",
    "평가는 조금 어려워질 것 같지만, 정해진 틀 안에서 개인이나 조별로 원하는 프로젝트를 수행하는것도 재미있을것 같습니다.  \n",
    "그렇게 하면 파이썬도 더 재미있게 공부할 수 있을 것 같습니다."
   ]
  }
 ],
 "metadata": {
  "kernelspec": {
   "display_name": "Python 3 (ipykernel)",
   "language": "python",
   "name": "python3"
  },
  "language_info": {
   "codemirror_mode": {
    "name": "ipython",
    "version": 3
   },
   "file_extension": ".py",
   "mimetype": "text/x-python",
   "name": "python",
   "nbconvert_exporter": "python",
   "pygments_lexer": "ipython3",
   "version": "3.9.5"
  }
 },
 "nbformat": 4,
 "nbformat_minor": 5
}
