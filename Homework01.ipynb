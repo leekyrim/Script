{
 "cells": [
  {
   "cell_type": "markdown",
   "id": "f1fe2b32",
   "metadata": {},
   "source": [
    "스크립트 프로그래밍 Homework #01\n",
    "=============================\n",
    "<hr>\n",
    "스크립트프로그래밍 02분반<br>\n",
    "컴퓨터공학부 2018136079 이계림<br>"
   ]
  },
  {
   "cell_type": "code",
   "execution_count": 25,
   "id": "9a672e24",
   "metadata": {},
   "outputs": [
    {
     "name": "stdout",
     "output_type": "stream",
     "text": [
      "Python Hello\n"
     ]
    }
   ],
   "source": [
    "a = \"Hello Python\"\n",
    "pivot = 5\n",
    "a = a[pivot+1:] + a[pivot] + a[:pivot]\n",
    "print(a)"
   ]
  },
  {
   "cell_type": "markdown",
   "id": "07b2c7b6",
   "metadata": {},
   "source": [
    "### 문제 1.\n",
    "#### a=\"Hello Python\" 문자열을 Slicing과 연결 연산자 (+)를 사용하여 \"Python Hello\"로 변경하시오.\n",
    "설정할 기준점(pivot point) 인덱스를 pivot 변수에 넣고<br>\n",
    "pivot을 기준으로 문자열을 좌우 끝까지 슬라이싱한 뒤, 연결 연산자를 사용하여 문자열을 구성했습니다."
   ]
  },
  {
   "cell_type": "code",
   "execution_count": 37,
   "id": "4a7c18b6",
   "metadata": {},
   "outputs": [
    {
     "name": "stdout",
     "output_type": "stream",
     "text": [
      "World Python Hello\n"
     ]
    }
   ],
   "source": [
    "b = \"Hello Python World\"\n",
    "pivotL = 5\n",
    "pivotR = 12\n",
    "b = b[pivotR+1:] + b[pivotL] + b[pivotL+1:pivotR] + b[pivotR] + b[:pivotL]\n",
    "print(b)"
   ]
  },
  {
   "cell_type": "markdown",
   "id": "fbf2944d",
   "metadata": {},
   "source": [
    "### 문제 2.\n",
    "#### b=\"Hello Python World\" 문자열을 Slicing과 연결 연산자 (+)를 사용하여 \"World Python Hello\"로 변경하시오.\n",
    "\n",
    "문제 1번과 같은 방법으로 왼쪽 기준점, 오른쪽 기준점 인덱스를 설정하여<br>\n",
    "구간을 문자열 슬라이싱하고, 연결 연산자를 사용하여 문자열을 구성했습니다."
   ]
  },
  {
   "cell_type": "code",
   "execution_count": 40,
   "id": "79fa033e",
   "metadata": {},
   "outputs": [
    {
     "name": "stdout",
     "output_type": "stream",
     "text": [
      "olleH\n"
     ]
    }
   ],
   "source": [
    "c = \"Hello\"\n",
    "c = c[::-1]\n",
    "print(c)"
   ]
  },
  {
   "cell_type": "markdown",
   "id": "a81b646b",
   "metadata": {},
   "source": [
    "### 문제 3.\n",
    "#### c=\"Hello\"를 \"olleH\"로 변경하시오\n",
    "\n",
    "파이썬은 슬라이싱의 세번째 인자로 step을 설정해 줄 수 있습니다.<br>\n",
    "슬라이싱의 첫번째, 두번째 인자를 비워 자동으로 처음부터 끝까지 구간을 설정하고 <br>\n",
    "슬라이싱의 세번째 인자로 -1을 넣어 역순으로 슬라이싱 하도록 했습니다."
   ]
  },
  {
   "cell_type": "code",
   "execution_count": 22,
   "id": "8e4fa732",
   "metadata": {},
   "outputs": [
    {
     "name": "stdout",
     "output_type": "stream",
     "text": [
      "p p p\n",
      "ytho\n",
      "\n"
     ]
    }
   ],
   "source": [
    "s=\"python\"\n",
    "print(s[0], s[0][0], s[0][0][0])\n",
    "# print(s[-100], s[100])\n",
    "# print(s[-100, 100])\n",
    "print(s[1:-1])\n",
    "print(s[3:-3])"
   ]
  },
  {
   "cell_type": "markdown",
   "id": "d86d909c",
   "metadata": {},
   "source": [
    "### 문제 4.\n",
    "#### s=\"python\"에 대해 다음 문제를 풀어보시오.\n",
    "\n",
    "#### s[0], s[0][0], s[0][0][0]은 각각 어떤 값이 나오는지 확인하고 그 이유를 나름대로 설명해 보시오.\n",
    "s[0], s[0][0], s[0][0][0]은 모두 p가 출력이 됩니다. <br>\n",
    "인덱스 [0]는 문자열의 첫번째 요소를 가리키고, <br>\n",
    "s[0]에는 's'가 들어있으니 s[0][0]은 's'이고 <br>\n",
    "s[0][0]에 's'가 있으므로 s[0][0][0]은 's'입니다.\n",
    "\n",
    "#### s[-100], s[100]은 값이 나오는지 에러가 나오는지 확인하고 그 결과에 대한 이유를 나름대로 설명해 보시오.\n",
    "IndexError: string index out of range <br>\n",
    "인덱스가 문자열의 범위를 벗어났기 때문에 오류가 출력됩니다.\n",
    "s의 인덱스 범위는 0 ~ 5 입니다.\n",
    "\n",
    "#### s[-100, 100]은 값이 나오는지 에러가 나오는지 확인하고 그 결과에 대한 이유를 나름대로 설명해 보시오.\n",
    "TypeError: string indices must be integers <br>\n",
    "인덱스는 항상 정수로 입력이 되어야 한다. -100, 100은 잘못된 인덱스 입력입니다.\n",
    "\n",
    "#### s[1:-1]의 결과를 확인하고 그 결과에 대한 이유를 정확하게 설명하시오.\n",
    "s[1:-1]의 출력결과는 ytho 입니다. <br>\n",
    "s[1]인 y부터 s[-1]인 o까지, 슬라이싱의 세번째 인자는 생략되어 +1 step이 됩니다.\n",
    "따라서 ytho이 출력됩니다.\n",
    "\n",
    "\n",
    "#### s[3:-3]의 결과를 확인하고 그 결과에 대한 이유를 정확하게 설명하시오.\n",
    "s[3:-3]은 공백이 출력됩니다. <br>\n",
    "s[3] 은 h를 가리키는 인덱스이고, s[-3]도 h를 가리키는 인덱스이기 때문에 아무것도 출력이 되지 않습니다."
   ]
  },
  {
   "cell_type": "code",
   "execution_count": 55,
   "id": "59c34c8f",
   "metadata": {},
   "outputs": [
    {
     "name": "stdout",
     "output_type": "stream",
     "text": [
      "1\n",
      "3\n",
      "5\n",
      "7\n",
      "9\n",
      "11\n",
      "13\n",
      "15\n",
      "17\n",
      "19\n",
      "21\n",
      "23\n",
      "25\n",
      "27\n",
      "29\n",
      "31\n",
      "33\n",
      "35\n",
      "37\n",
      "39\n",
      "41\n",
      "43\n",
      "45\n",
      "47\n",
      "49\n",
      "51\n",
      "53\n",
      "55\n",
      "57\n",
      "59\n",
      "61\n",
      "63\n",
      "65\n",
      "67\n",
      "69\n",
      "71\n",
      "73\n",
      "75\n",
      "77\n",
      "79\n",
      "81\n",
      "83\n",
      "85\n",
      "87\n",
      "89\n",
      "91\n",
      "93\n",
      "95\n",
      "97\n",
      "99\n"
     ]
    }
   ],
   "source": [
    "for i in range(1, 101, 2):\n",
    "    print(i)"
   ]
  },
  {
   "cell_type": "markdown",
   "id": "d1fa2995",
   "metadata": {},
   "source": [
    "### 문제 5.\n",
    "#### for문을 활용하여 1부터 100사이의 홀수를 출력하시오\n",
    "\n",
    "range 함수를 통해 for문의 범위를 1부터 100까지 설정하고, step을 2로 설정하여 2씩 증가하도록 하였습니다. <br>\n",
    "이후에 반복문의 실행에 따라 i값을 출력했습니다."
   ]
  },
  {
   "cell_type": "code",
   "execution_count": 72,
   "id": "14a8ce5b",
   "metadata": {},
   "outputs": [
    {
     "name": "stdout",
     "output_type": "stream",
     "text": [
      "총 합은 2550 입니다.\n"
     ]
    }
   ],
   "source": [
    "number = 1\n",
    "total = 0\n",
    "\n",
    "while number <= 100:\n",
    "    if not(number % 2):\n",
    "        total += number\n",
    "    number += 1\n",
    "print('총 합은 %d 입니다.' % total)"
   ]
  },
  {
   "cell_type": "markdown",
   "id": "2c4ae4e5",
   "metadata": {},
   "source": [
    "### 문제 6.\n",
    "#### while문을 활용하여 1부터 100사이의 짝수의 합을 계산하여 출력하시오.\n",
    "\n",
    "while문을 통해 number 값을 1부터 100까지 반복하고, <br>\n",
    "if문을 통해 number가 짝수인지 판단하여, 짝수일 경우 total에 더해줍니다. <br>\n",
    "마지막으로 합산을 마친 total 변수를 출력해줍니다."
   ]
  },
  {
   "cell_type": "code",
   "execution_count": 20,
   "id": "57c60c99",
   "metadata": {},
   "outputs": [
    {
     "name": "stdout",
     "output_type": "stream",
     "text": [
      "정수를 입력하세요: 4352\n",
      "숫자 역순은 2534 입니다.\n"
     ]
    }
   ],
   "source": [
    "number = int(input('정수를 입력하세요: '))\n",
    "number = str(number)\n",
    "print('숫자 역순은 %s 입니다.' % number[::-1])"
   ]
  },
  {
   "cell_type": "markdown",
   "id": "c01cc70a",
   "metadata": {},
   "source": [
    "### 문제 7.\n",
    "#### 사용자로 부터 임의의 정수를 입력받고, 해당 숫자를 역순으로 출력하는 프로그램을 작성하시오.\n",
    "\n",
    "입력받은 정수를 문자열로 변환하고, 슬라이싱의 세번째 인자에 -1을 전달하여 뒤집은 후 출력했습니다."
   ]
  },
  {
   "cell_type": "code",
   "execution_count": 98,
   "id": "7d9765f0",
   "metadata": {},
   "outputs": [
    {
     "name": "stdout",
     "output_type": "stream",
     "text": [
      "소수의 상한선을 입력하세요(정수): 50\n",
      "1\n",
      "2\n",
      "3\n",
      "5\n",
      "7\n",
      "11\n",
      "13\n",
      "17\n",
      "19\n",
      "23\n",
      "29\n",
      "31\n",
      "37\n",
      "41\n",
      "43\n",
      "47\n"
     ]
    }
   ],
   "source": [
    "supremum = int(input('소수의 상한선을 입력하세요(정수): '))\n",
    "\n",
    "number = 1\n",
    "while number <= supremum:\n",
    "    isPrime = True\n",
    "    for i in range(2, number):\n",
    "        if not(number % i):\n",
    "            isPrime = False\n",
    "            break\n",
    "    if isPrime:\n",
    "        print(number)\n",
    "    number += 1"
   ]
  },
  {
   "cell_type": "markdown",
   "id": "55a97170",
   "metadata": {},
   "source": [
    "### 문제 8.\n",
    "#### 사용자로 부터 정수를 입력받아서 1부터 그 사이에 존재하는 소수 (Prime number)를 출력하는 파이썬 프로그램을 작성하시오.\n",
    "\n",
    "while문을 통해 1부터 입력받은 숫자의 상한선까지 number의 값을 반복하고 <br>\n",
    "중첩된 for문에서는 i값을 2부터 현재 number까지 반복하며 number값이 나눠지는지 검사합니다. <br>\n",
    "number값이 나눠질 경우 소수가 아니므로 break합니다. <br>\n",
    "마지막으로 소수로 판정된 숫자를 출력해 줍니다."
   ]
  },
  {
   "cell_type": "code",
   "execution_count": 113,
   "id": "d9ca3d19",
   "metadata": {},
   "outputs": [
    {
     "name": "stdout",
     "output_type": "stream",
     "text": [
      "string S를 입력하세요: OEOAQP\n",
      "승자: Kevin 점수: 18\n"
     ]
    }
   ],
   "source": [
    "S = input('string S를 입력하세요: ')\n",
    "\n",
    "vowels = 'AEIOU'\n",
    "\n",
    "KevinWords = []\n",
    "StuartWords = []\n",
    "\n",
    "for i in range(len(S)):\n",
    "    tempStr = ''\n",
    "    if S[i] in vowels: # 모음일 경우\n",
    "        for j in range(i, len(S)):\n",
    "            tempStr += S[j]\n",
    "            KevinWords.append(tempStr)\n",
    "    else: # 자음일 경우\n",
    "        for j in range(i, len(S)):\n",
    "            tempStr += S[j]\n",
    "            StuartWords.append(tempStr)\n",
    "\n",
    "if len(KevinWords) < len(StuartWords): print('승자: Stuart 점수:', len(StuartWords))\n",
    "elif len(KevinWords) > len(StuartWords): print('승자: Kevin 점수:', len(KevinWords))\n",
    "else: print('무승부 입니다.')"
   ]
  },
  {
   "cell_type": "markdown",
   "id": "d8e3fe87",
   "metadata": {},
   "source": [
    "### 문제 9.\n",
    "#### 사용자로 부터 대문자로 이루어진 string S를 입력받고, 승자와 그의 점수를 출력하는 프로그램을 작성하시오.\n",
    "\n",
    "주어진 문자열 S에서 자음과 모음을 구분한 뒤, Kevin과 Stuart가 만들 수 있는 단어들을 각각의 리스트에 담습니다.\n",
    "계산된 경우의 수는 len 함수를 통해 얻을 수 있습니다.\n",
    "두 사람의 경우의 수를 비교하여 누가 승리하였는지, 무승부인지 판단하여 결과를 출력해줍니다."
   ]
  },
  {
   "cell_type": "code",
   "execution_count": 23,
   "id": "e4aae582",
   "metadata": {},
   "outputs": [],
   "source": [
    "def appendDelete(s, t, k):\n",
    "    # emptry string 삭제연산이 가능할 경우\n",
    "    if k >= len(s)+len(t):\n",
    "        return 'Yes'\n",
    "    \n",
    "    matchLen = len(s)\n",
    "    #일치하는 문자의 갯수를 구한다\n",
    "    for length in range(1, len(s)+1):\n",
    "        if not(t.startswith(s[:length])):\n",
    "            matchLen = length - 1\n",
    "            break\n",
    "    \n",
    "    #필요한 연산의 횟수를 구한다\n",
    "    gapLen = abs(len(s)+len(t) - matchLen*2)\n",
    "    \n",
    "    # 횟수 이내에 해결할 수 없는 경우\n",
    "    if(gapLen > k): return 'No'\n",
    "    else: # 횟수 이내에 해결 가능한 경우\n",
    "        if(gapLen%2 == k%2): return 'Yes'# 홀짝 판별\n",
    "        else: return 'No'\n",
    "    return 'False'"
   ]
  },
  {
   "cell_type": "code",
   "execution_count": 24,
   "id": "43b2a462",
   "metadata": {},
   "outputs": [
    {
     "name": "stdout",
     "output_type": "stream",
     "text": [
      "Yes\n",
      "Yes\n",
      "No\n",
      "Yes\n",
      "No\n",
      "Yes\n",
      "No\n"
     ]
    }
   ],
   "source": [
    "print(appendDelete('hackerhappy', 'hackerrank', 9))\n",
    "print(appendDelete('aba', 'aba', 7))\n",
    "print(appendDelete('ashley', 'ash', 2))\n",
    "\n",
    "print(appendDelete('arc', 'arck', 3)) # False\n",
    "print(appendDelete('arc', 'arck', 2)) # True\n",
    "print(appendDelete('arck', 'arckdf', 4)) # True\n",
    "print(appendDelete('arck', 'arckdf', 3)) # False"
   ]
  },
  {
   "cell_type": "markdown",
   "id": "6af4f765",
   "metadata": {},
   "source": [
    "### 문제 10.\n",
    "#### 두 개의 string, s와 t, 그리고 정수 k가 주어질 때, 정확히 k번의 연산을 통해 s를 t로 바꿀 수 있는지 판단하는 함수를 작성하시오.\n",
    "\n",
    "(예외) <br>\n",
    "두 문자열을 합친 길이보다 k값이 클때는 emptry string 삭제 연산을 통해 무조건 문자열을 바꿀수 있습니다. 따라사 Yes를 반환해 줍니다. <br>\n",
    "\n",
    "두 문자열을 비교하여 어디까지 문자열이 일치하는지 구합니다. <br>\n",
    "비교에는 startswith 함수를 사용하였습니다. startswith 함수는 문자열이 특정 문자열로 시작하는지 여부를 알려줍니다. <br>\n",
    "\n",
    "구한 문자열 일치 길이를 통해, 문자열을 변환하는데 필요한 최소의 연산을 구합니다. <br>\n",
    "\n",
    "그리고 이 연산보다 k값이 적을 경우 => 횟수 이내에 해결할 수 없는 경우로 판단하고, <br>\n",
    "이외의 경우 연산 횟수와 k값이 동시에 홀수인지 짝수인지 판별하여 여부를 가립니다."
   ]
  },
  {
   "cell_type": "markdown",
   "id": "193b2bbc",
   "metadata": {},
   "source": [
    "### 소감\n",
    "강의를 들으며 복잡한 내용도 최대한 다수의 인원에게 이해시키려고 노력 하시는것 같이 느꼈습니다.  \n",
    "그리고 교수님의 따옴표 제스처가 기억에 남습니다. 집중해야 하는 내용에 도움이 되는것 같습니다.  \n",
    "\n",
    "과제를 해결하며, 알고리즘을 생각하는게 머리가 아팠지만 어느정도 파이썬 문법이 익고 Jupyter Notebook 환경에 적응하는데 도움이 된 것 같습니다. 다른 언어 수업들을 함께 듣다보니 헷갈리는 부분도 있었습니다.\n",
    "9번 10번 문제는 문제가 정확히 이해가 안되서 조금 헤맸으나 제가 이해한 내용대로 풀어보았습니다."
   ]
  }
 ],
 "metadata": {
  "kernelspec": {
   "display_name": "Python 3 (ipykernel)",
   "language": "python",
   "name": "python3"
  },
  "language_info": {
   "codemirror_mode": {
    "name": "ipython",
    "version": 3
   },
   "file_extension": ".py",
   "mimetype": "text/x-python",
   "name": "python",
   "nbconvert_exporter": "python",
   "pygments_lexer": "ipython3",
   "version": "3.9.5"
  }
 },
 "nbformat": 4,
 "nbformat_minor": 5
}
